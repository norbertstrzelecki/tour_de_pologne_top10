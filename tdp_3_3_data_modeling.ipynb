{
 "cells": [
  {
   "cell_type": "markdown",
   "metadata": {},
   "source": [
    "# This part 3 of 3 is TBD very soon <a class='tocSkip'>"
   ]
  },
  {
   "cell_type": "markdown",
   "metadata": {},
   "source": [
    "**Previous notebooks:** <br>\n",
    "[Part 1: Data mining and munging](tdp_1_3_data_mining_and_cleaning.ipynb)<br>\n",
    "[Part 2: Data stats and visuals](tdp_2_3_data_statistics_visualization.ipynb)"
   ]
  },
  {
   "cell_type": "code",
   "execution_count": 32,
   "metadata": {},
   "outputs": [],
   "source": [
    "import numpy as np\n",
    "import pandas as pd\n",
    "import matplotlib.pyplot as plt\n",
    "from matplotlib import cm\n",
    "import seaborn as sns; sns.set()"
   ]
  },
  {
   "cell_type": "markdown",
   "metadata": {},
   "source": [
    "### Data loading <a class='tocSkip'>"
   ]
  },
  {
   "cell_type": "code",
   "execution_count": 33,
   "metadata": {},
   "outputs": [],
   "source": [
    "# Main data for modeling\n",
    "biker_class = pd.read_csv('processed/clean_biker_class.csv', index_col=0)\n",
    "\n",
    "# # Additional parts for statistics\n",
    "# biker_stats = pd.read_csv('preprocessed/pre_biker_stats.csv', index_col=0)\n",
    "# biker_by_stage = pd.read_csv('preprocessed/pre_biker_by_stage.csv', index_col=0)\n",
    "# stage_results = pd.read_csv('preprocessed/pre_stages.csv', index_col=False)\n",
    "# stage_class = pd.read_csv('preprocessed/pre_stages_summary.csv', index_col=False)"
   ]
  },
  {
   "cell_type": "code",
   "execution_count": 34,
   "metadata": {},
   "outputs": [],
   "source": [
    "# Fixing 'date' type column\n",
    "biker_class['date'] = pd.to_datetime(biker_class['date'])"
   ]
  },
  {
   "cell_type": "markdown",
   "metadata": {},
   "source": [
    "# Preparing data"
   ]
  },
  {
   "cell_type": "code",
   "execution_count": 35,
   "metadata": {},
   "outputs": [
    {
     "data": {
      "text/plain": [
       "0.9352997145575642"
      ]
     },
     "execution_count": 35,
     "metadata": {},
     "output_type": "execute_result"
    }
   ],
   "source": [
    "# Baseline prediction for 0s\n",
    "1 - biker_class.y_label.mean()"
   ]
  },
  {
   "cell_type": "code",
   "execution_count": 36,
   "metadata": {},
   "outputs": [],
   "source": [
    "# Poping out label column\n",
    "y = biker_class.pop('y_label')"
   ]
  },
  {
   "cell_type": "code",
   "execution_count": 37,
   "metadata": {
    "scrolled": true
   },
   "outputs": [
    {
     "data": {
      "text/plain": [
       "6     1\n",
       "7     1\n",
       "8     1\n",
       "9     1\n",
       "10    0\n",
       "11    0\n",
       "12    0\n",
       "13    0\n",
       "14    0\n",
       "Name: y_label, dtype: int64"
      ]
     },
     "execution_count": 37,
     "metadata": {},
     "output_type": "execute_result"
    }
   ],
   "source": [
    "y[6:15]"
   ]
  },
  {
   "cell_type": "markdown",
   "metadata": {},
   "source": [
    "-------"
   ]
  },
  {
   "cell_type": "code",
   "execution_count": 38,
   "metadata": {},
   "outputs": [
    {
     "data": {
      "text/plain": [
       "Index(['name', 'nation', 'age', 'team', 'year', 'stage', 'position',\n",
       "       'time_in_s', 'gc', 'gc_time_in_s', 'mount_jerseys', 'point_jerseys',\n",
       "       'sprint_jerseys', 'youth_jerseys', 'followers', 'total_wins', 'n_tours',\n",
       "       'n_stages', 'avg_year', 'best_pos_ovr', 'avg_pos_ovr', 'worst_pos_ovr',\n",
       "       'best_time_ovr', 'avg_time_ovr', 'worst_time_ovr', 'best_gc_ovr',\n",
       "       'avg_gc_ovr', 'worst_gc_ovr', 'best_gc_time_ovr', 'avg_gc_time_ovr',\n",
       "       'worst_gc_time_ovr', 'n_top10_ovr', 'n_win_ovr', 'best_pos_ovr_l3',\n",
       "       'avg_pos_ovr_l3', 'worst_pos_ovr_l3', 'best_time_ovr_l3',\n",
       "       'avg_time_ovr_l3', 'worst_time_ovr_l3', 'best_gc_ovr_l3',\n",
       "       'avg_gc_ovr_l3', 'worst_gc_ovr_l3', 'best_gc_time_ovr_l3',\n",
       "       'avg_gc_time_ovr_l3', 'worst_gc_time_ovr_l3', 'n_top10_l3', 'n_win_l3',\n",
       "       'perc_top10_ovr', 'perc_win_ovr', '2015_div', '2015_fc_rank',\n",
       "       '2015_race_days', '2015_team', '2015_wins', '2015_year_km', '2016_div',\n",
       "       '2016_fc_rank', '2016_race_days', '2016_team', '2016_wins',\n",
       "       '2016_year_km', '2017_div', '2017_fc_rank', '2017_race_days',\n",
       "       '2017_team', '2017_wins', '2017_year_km', '2018_div', '2018_fc_rank',\n",
       "       '2018_race_days', '2018_team', '2018_wins', '2018_year_km', 'date',\n",
       "       'stage_type_code', 'dist', 'finish', 'temp', 'rel_humid', 'wind_dir',\n",
       "       'wind_speed', 'clouds_ovrl', 'visibility'],\n",
       "      dtype='object')"
      ]
     },
     "execution_count": 38,
     "metadata": {},
     "output_type": "execute_result"
    }
   ],
   "source": [
    "biker_class.columns"
   ]
  },
  {
   "cell_type": "code",
   "execution_count": 39,
   "metadata": {},
   "outputs": [
    {
     "name": "stdout",
     "output_type": "stream",
     "text": [
      "(5255, 83)\n"
     ]
    },
    {
     "data": {
      "text/html": [
       "<div>\n",
       "<style scoped>\n",
       "    .dataframe tbody tr th:only-of-type {\n",
       "        vertical-align: middle;\n",
       "    }\n",
       "\n",
       "    .dataframe tbody tr th {\n",
       "        vertical-align: top;\n",
       "    }\n",
       "\n",
       "    .dataframe thead th {\n",
       "        text-align: right;\n",
       "    }\n",
       "</style>\n",
       "<table border=\"1\" class=\"dataframe\">\n",
       "  <thead>\n",
       "    <tr style=\"text-align: right;\">\n",
       "      <th></th>\n",
       "      <th>name</th>\n",
       "      <th>nation</th>\n",
       "      <th>age</th>\n",
       "      <th>team</th>\n",
       "      <th>year</th>\n",
       "      <th>stage</th>\n",
       "      <th>position</th>\n",
       "      <th>time_in_s</th>\n",
       "      <th>gc</th>\n",
       "      <th>gc_time_in_s</th>\n",
       "      <th>...</th>\n",
       "      <th>date</th>\n",
       "      <th>stage_type_code</th>\n",
       "      <th>dist</th>\n",
       "      <th>finish</th>\n",
       "      <th>temp</th>\n",
       "      <th>rel_humid</th>\n",
       "      <th>wind_dir</th>\n",
       "      <th>wind_speed</th>\n",
       "      <th>clouds_ovrl</th>\n",
       "      <th>visibility</th>\n",
       "    </tr>\n",
       "  </thead>\n",
       "  <tbody>\n",
       "    <tr>\n",
       "      <th>0</th>\n",
       "      <td>Y.Hutarovich</td>\n",
       "      <td>Belarus</td>\n",
       "      <td>31</td>\n",
       "      <td>AG2R La Mondiale</td>\n",
       "      <td>2014</td>\n",
       "      <td>1</td>\n",
       "      <td>1</td>\n",
       "      <td>20870.0</td>\n",
       "      <td>1</td>\n",
       "      <td>20860.0</td>\n",
       "      <td>...</td>\n",
       "      <td>2014-08-03</td>\n",
       "      <td>1</td>\n",
       "      <td>226.0</td>\n",
       "      <td>Bygdoszcz</td>\n",
       "      <td>31.5</td>\n",
       "      <td>38</td>\n",
       "      <td>ESE</td>\n",
       "      <td>2</td>\n",
       "      <td>6</td>\n",
       "      <td>9</td>\n",
       "    </tr>\n",
       "    <tr>\n",
       "      <th>1</th>\n",
       "      <td>R.Maikin</td>\n",
       "      <td>Russia</td>\n",
       "      <td>24</td>\n",
       "      <td>RusVelo</td>\n",
       "      <td>2014</td>\n",
       "      <td>1</td>\n",
       "      <td>2</td>\n",
       "      <td>20870.0</td>\n",
       "      <td>2</td>\n",
       "      <td>20864.0</td>\n",
       "      <td>...</td>\n",
       "      <td>2014-08-03</td>\n",
       "      <td>1</td>\n",
       "      <td>226.0</td>\n",
       "      <td>Bygdoszcz</td>\n",
       "      <td>31.5</td>\n",
       "      <td>38</td>\n",
       "      <td>ESE</td>\n",
       "      <td>2</td>\n",
       "      <td>6</td>\n",
       "      <td>9</td>\n",
       "    </tr>\n",
       "    <tr>\n",
       "      <th>2</th>\n",
       "      <td>M.Mori</td>\n",
       "      <td>Italy</td>\n",
       "      <td>34</td>\n",
       "      <td>Lampre - Merida</td>\n",
       "      <td>2014</td>\n",
       "      <td>1</td>\n",
       "      <td>3</td>\n",
       "      <td>20870.0</td>\n",
       "      <td>3</td>\n",
       "      <td>20866.0</td>\n",
       "      <td>...</td>\n",
       "      <td>2014-08-03</td>\n",
       "      <td>1</td>\n",
       "      <td>226.0</td>\n",
       "      <td>Bygdoszcz</td>\n",
       "      <td>31.5</td>\n",
       "      <td>38</td>\n",
       "      <td>ESE</td>\n",
       "      <td>2</td>\n",
       "      <td>6</td>\n",
       "      <td>9</td>\n",
       "    </tr>\n",
       "    <tr>\n",
       "      <th>3</th>\n",
       "      <td>G.Boivin</td>\n",
       "      <td>Canada</td>\n",
       "      <td>25</td>\n",
       "      <td>Cannondale Pro Cycling</td>\n",
       "      <td>2014</td>\n",
       "      <td>1</td>\n",
       "      <td>4</td>\n",
       "      <td>20870.0</td>\n",
       "      <td>6</td>\n",
       "      <td>20870.0</td>\n",
       "      <td>...</td>\n",
       "      <td>2014-08-03</td>\n",
       "      <td>1</td>\n",
       "      <td>226.0</td>\n",
       "      <td>Bygdoszcz</td>\n",
       "      <td>31.5</td>\n",
       "      <td>38</td>\n",
       "      <td>ESE</td>\n",
       "      <td>2</td>\n",
       "      <td>6</td>\n",
       "      <td>9</td>\n",
       "    </tr>\n",
       "    <tr>\n",
       "      <th>4</th>\n",
       "      <td>M.Haller</td>\n",
       "      <td>Austria</td>\n",
       "      <td>23</td>\n",
       "      <td>Team Katusha</td>\n",
       "      <td>2014</td>\n",
       "      <td>1</td>\n",
       "      <td>5</td>\n",
       "      <td>20870.0</td>\n",
       "      <td>7</td>\n",
       "      <td>20870.0</td>\n",
       "      <td>...</td>\n",
       "      <td>2014-08-03</td>\n",
       "      <td>1</td>\n",
       "      <td>226.0</td>\n",
       "      <td>Bygdoszcz</td>\n",
       "      <td>31.5</td>\n",
       "      <td>38</td>\n",
       "      <td>ESE</td>\n",
       "      <td>2</td>\n",
       "      <td>6</td>\n",
       "      <td>9</td>\n",
       "    </tr>\n",
       "  </tbody>\n",
       "</table>\n",
       "<p>5 rows × 83 columns</p>\n",
       "</div>"
      ],
      "text/plain": [
       "           name   nation  age                    team  year  stage  position  \\\n",
       "0  Y.Hutarovich  Belarus   31        AG2R La Mondiale  2014      1         1   \n",
       "1      R.Maikin   Russia   24                 RusVelo  2014      1         2   \n",
       "2        M.Mori    Italy   34         Lampre - Merida  2014      1         3   \n",
       "3      G.Boivin   Canada   25  Cannondale Pro Cycling  2014      1         4   \n",
       "4      M.Haller  Austria   23            Team Katusha  2014      1         5   \n",
       "\n",
       "   time_in_s  gc  gc_time_in_s     ...           date  stage_type_code   dist  \\\n",
       "0    20870.0   1       20860.0     ...     2014-08-03                1  226.0   \n",
       "1    20870.0   2       20864.0     ...     2014-08-03                1  226.0   \n",
       "2    20870.0   3       20866.0     ...     2014-08-03                1  226.0   \n",
       "3    20870.0   6       20870.0     ...     2014-08-03                1  226.0   \n",
       "4    20870.0   7       20870.0     ...     2014-08-03                1  226.0   \n",
       "\n",
       "      finish  temp  rel_humid  wind_dir  wind_speed  clouds_ovrl  visibility  \n",
       "0  Bygdoszcz  31.5         38       ESE           2            6           9  \n",
       "1  Bygdoszcz  31.5         38       ESE           2            6           9  \n",
       "2  Bygdoszcz  31.5         38       ESE           2            6           9  \n",
       "3  Bygdoszcz  31.5         38       ESE           2            6           9  \n",
       "4  Bygdoszcz  31.5         38       ESE           2            6           9  \n",
       "\n",
       "[5 rows x 83 columns]"
      ]
     },
     "execution_count": 39,
     "metadata": {},
     "output_type": "execute_result"
    }
   ],
   "source": [
    "print(biker_class.shape)\n",
    "biker_class.head()"
   ]
  },
  {
   "cell_type": "markdown",
   "metadata": {},
   "source": [
    "## Remapping & Dropping"
   ]
  },
  {
   "cell_type": "code",
   "execution_count": 40,
   "metadata": {
    "scrolled": true
   },
   "outputs": [],
   "source": [
    "# Due to too many levels, trying with the '_team' data removed\n",
    "# Try: change team levels for only 5 top + 1 as a rest\n",
    "biker_class.drop('team', axis=1, inplace=True)\n",
    "biker_class.drop(biker_class.loc[:,'2015_team':'2018_team':6], axis=1, inplace=True)"
   ]
  },
  {
   "cell_type": "code",
   "execution_count": 41,
   "metadata": {
    "scrolled": true
   },
   "outputs": [
    {
     "data": {
      "text/html": [
       "<div>\n",
       "<style scoped>\n",
       "    .dataframe tbody tr th:only-of-type {\n",
       "        vertical-align: middle;\n",
       "    }\n",
       "\n",
       "    .dataframe tbody tr th {\n",
       "        vertical-align: top;\n",
       "    }\n",
       "\n",
       "    .dataframe thead th {\n",
       "        text-align: right;\n",
       "    }\n",
       "</style>\n",
       "<table border=\"1\" class=\"dataframe\">\n",
       "  <thead>\n",
       "    <tr style=\"text-align: right;\">\n",
       "      <th></th>\n",
       "      <th>2015_div</th>\n",
       "      <th>2016_div</th>\n",
       "      <th>2017_div</th>\n",
       "      <th>2018_div</th>\n",
       "    </tr>\n",
       "  </thead>\n",
       "  <tbody>\n",
       "    <tr>\n",
       "      <th>0</th>\n",
       "      <td>PROF</td>\n",
       "      <td>PROF</td>\n",
       "      <td>NONE</td>\n",
       "      <td>NONE</td>\n",
       "    </tr>\n",
       "    <tr>\n",
       "      <th>1</th>\n",
       "      <td>PROF</td>\n",
       "      <td>PROF</td>\n",
       "      <td>PROF</td>\n",
       "      <td>PROF</td>\n",
       "    </tr>\n",
       "    <tr>\n",
       "      <th>2</th>\n",
       "      <td>PRT</td>\n",
       "      <td>PRT</td>\n",
       "      <td>PRT</td>\n",
       "      <td>PRT</td>\n",
       "    </tr>\n",
       "    <tr>\n",
       "      <th>3</th>\n",
       "      <td>CONT</td>\n",
       "      <td>CONT</td>\n",
       "      <td>PROF</td>\n",
       "      <td>PROF</td>\n",
       "    </tr>\n",
       "    <tr>\n",
       "      <th>4</th>\n",
       "      <td>PRT</td>\n",
       "      <td>PRT</td>\n",
       "      <td>PRT</td>\n",
       "      <td>PRT</td>\n",
       "    </tr>\n",
       "  </tbody>\n",
       "</table>\n",
       "</div>"
      ],
      "text/plain": [
       "  2015_div 2016_div 2017_div 2018_div\n",
       "0     PROF     PROF     NONE     NONE\n",
       "1     PROF     PROF     PROF     PROF\n",
       "2      PRT      PRT      PRT      PRT\n",
       "3     CONT     CONT     PROF     PROF\n",
       "4      PRT      PRT      PRT      PRT"
      ]
     },
     "execution_count": 41,
     "metadata": {},
     "output_type": "execute_result"
    }
   ],
   "source": [
    "biker_class.loc[:,'2015_div':'2018_div':5].head()"
   ]
  },
  {
   "cell_type": "code",
   "execution_count": 42,
   "metadata": {},
   "outputs": [],
   "source": [
    "# Remapping '_div' team types with numbers as they show a true level of professionalism\n",
    "biker_class.loc[:,'2015_div':'2018_div':5] = biker_class.loc[:,'2015_div':'2018_div':5]\\\n",
    "                                                        .replace({'PRT':1, 'PROF':2, 'CONT':3, 'NONE':4})"
   ]
  },
  {
   "cell_type": "code",
   "execution_count": 43,
   "metadata": {},
   "outputs": [
    {
     "data": {
      "text/html": [
       "<div>\n",
       "<style scoped>\n",
       "    .dataframe tbody tr th:only-of-type {\n",
       "        vertical-align: middle;\n",
       "    }\n",
       "\n",
       "    .dataframe tbody tr th {\n",
       "        vertical-align: top;\n",
       "    }\n",
       "\n",
       "    .dataframe thead th {\n",
       "        text-align: right;\n",
       "    }\n",
       "</style>\n",
       "<table border=\"1\" class=\"dataframe\">\n",
       "  <thead>\n",
       "    <tr style=\"text-align: right;\">\n",
       "      <th></th>\n",
       "      <th>2015_div</th>\n",
       "      <th>2016_div</th>\n",
       "      <th>2017_div</th>\n",
       "      <th>2018_div</th>\n",
       "    </tr>\n",
       "  </thead>\n",
       "  <tbody>\n",
       "    <tr>\n",
       "      <th>0</th>\n",
       "      <td>2</td>\n",
       "      <td>2</td>\n",
       "      <td>4</td>\n",
       "      <td>4</td>\n",
       "    </tr>\n",
       "    <tr>\n",
       "      <th>1</th>\n",
       "      <td>2</td>\n",
       "      <td>2</td>\n",
       "      <td>2</td>\n",
       "      <td>2</td>\n",
       "    </tr>\n",
       "    <tr>\n",
       "      <th>2</th>\n",
       "      <td>1</td>\n",
       "      <td>1</td>\n",
       "      <td>1</td>\n",
       "      <td>1</td>\n",
       "    </tr>\n",
       "    <tr>\n",
       "      <th>3</th>\n",
       "      <td>3</td>\n",
       "      <td>3</td>\n",
       "      <td>2</td>\n",
       "      <td>2</td>\n",
       "    </tr>\n",
       "    <tr>\n",
       "      <th>4</th>\n",
       "      <td>1</td>\n",
       "      <td>1</td>\n",
       "      <td>1</td>\n",
       "      <td>1</td>\n",
       "    </tr>\n",
       "  </tbody>\n",
       "</table>\n",
       "</div>"
      ],
      "text/plain": [
       "   2015_div  2016_div  2017_div  2018_div\n",
       "0         2         2         4         4\n",
       "1         2         2         2         2\n",
       "2         1         1         1         1\n",
       "3         3         3         2         2\n",
       "4         1         1         1         1"
      ]
     },
     "execution_count": 43,
     "metadata": {},
     "output_type": "execute_result"
    }
   ],
   "source": [
    "biker_class.loc[:,'2015_div':'2018_div':5].head()"
   ]
  },
  {
   "cell_type": "markdown",
   "metadata": {},
   "source": [
    "## Information about features"
   ]
  },
  {
   "cell_type": "markdown",
   "metadata": {},
   "source": [
    "### Datetime feature (1)"
   ]
  },
  {
   "cell_type": "code",
   "execution_count": 44,
   "metadata": {},
   "outputs": [
    {
     "data": {
      "text/html": [
       "<div>\n",
       "<style scoped>\n",
       "    .dataframe tbody tr th:only-of-type {\n",
       "        vertical-align: middle;\n",
       "    }\n",
       "\n",
       "    .dataframe tbody tr th {\n",
       "        vertical-align: top;\n",
       "    }\n",
       "\n",
       "    .dataframe thead th {\n",
       "        text-align: right;\n",
       "    }\n",
       "</style>\n",
       "<table border=\"1\" class=\"dataframe\">\n",
       "  <thead>\n",
       "    <tr style=\"text-align: right;\">\n",
       "      <th></th>\n",
       "      <th>date</th>\n",
       "    </tr>\n",
       "  </thead>\n",
       "  <tbody>\n",
       "    <tr>\n",
       "      <th>0</th>\n",
       "      <td>2014-08-03</td>\n",
       "    </tr>\n",
       "    <tr>\n",
       "      <th>1</th>\n",
       "      <td>2014-08-03</td>\n",
       "    </tr>\n",
       "    <tr>\n",
       "      <th>2</th>\n",
       "      <td>2014-08-03</td>\n",
       "    </tr>\n",
       "    <tr>\n",
       "      <th>3</th>\n",
       "      <td>2014-08-03</td>\n",
       "    </tr>\n",
       "    <tr>\n",
       "      <th>4</th>\n",
       "      <td>2014-08-03</td>\n",
       "    </tr>\n",
       "  </tbody>\n",
       "</table>\n",
       "</div>"
      ],
      "text/plain": [
       "        date\n",
       "0 2014-08-03\n",
       "1 2014-08-03\n",
       "2 2014-08-03\n",
       "3 2014-08-03\n",
       "4 2014-08-03"
      ]
     },
     "execution_count": 44,
     "metadata": {},
     "output_type": "execute_result"
    }
   ],
   "source": [
    "biker_class.select_dtypes('datetime').head()"
   ]
  },
  {
   "cell_type": "markdown",
   "metadata": {},
   "source": [
    "### Categorical features (4)"
   ]
  },
  {
   "cell_type": "code",
   "execution_count": 45,
   "metadata": {},
   "outputs": [
    {
     "data": {
      "text/plain": [
       "Index(['name', 'nation', 'finish', 'wind_dir'], dtype='object')"
      ]
     },
     "execution_count": 45,
     "metadata": {},
     "output_type": "execute_result"
    }
   ],
   "source": [
    "biker_class.select_dtypes('object').columns"
   ]
  },
  {
   "cell_type": "code",
   "execution_count": 46,
   "metadata": {},
   "outputs": [
    {
     "name": "stdout",
     "output_type": "stream",
     "text": [
      "(5255, 4)\n"
     ]
    },
    {
     "data": {
      "text/html": [
       "<div>\n",
       "<style scoped>\n",
       "    .dataframe tbody tr th:only-of-type {\n",
       "        vertical-align: middle;\n",
       "    }\n",
       "\n",
       "    .dataframe tbody tr th {\n",
       "        vertical-align: top;\n",
       "    }\n",
       "\n",
       "    .dataframe thead th {\n",
       "        text-align: right;\n",
       "    }\n",
       "</style>\n",
       "<table border=\"1\" class=\"dataframe\">\n",
       "  <thead>\n",
       "    <tr style=\"text-align: right;\">\n",
       "      <th></th>\n",
       "      <th>name</th>\n",
       "      <th>nation</th>\n",
       "      <th>finish</th>\n",
       "      <th>wind_dir</th>\n",
       "    </tr>\n",
       "  </thead>\n",
       "  <tbody>\n",
       "    <tr>\n",
       "      <th>0</th>\n",
       "      <td>Y.Hutarovich</td>\n",
       "      <td>Belarus</td>\n",
       "      <td>Bygdoszcz</td>\n",
       "      <td>ESE</td>\n",
       "    </tr>\n",
       "    <tr>\n",
       "      <th>1</th>\n",
       "      <td>R.Maikin</td>\n",
       "      <td>Russia</td>\n",
       "      <td>Bygdoszcz</td>\n",
       "      <td>ESE</td>\n",
       "    </tr>\n",
       "    <tr>\n",
       "      <th>2</th>\n",
       "      <td>M.Mori</td>\n",
       "      <td>Italy</td>\n",
       "      <td>Bygdoszcz</td>\n",
       "      <td>ESE</td>\n",
       "    </tr>\n",
       "  </tbody>\n",
       "</table>\n",
       "</div>"
      ],
      "text/plain": [
       "           name   nation     finish wind_dir\n",
       "0  Y.Hutarovich  Belarus  Bygdoszcz      ESE\n",
       "1      R.Maikin   Russia  Bygdoszcz      ESE\n",
       "2        M.Mori    Italy  Bygdoszcz      ESE"
      ]
     },
     "execution_count": 46,
     "metadata": {},
     "output_type": "execute_result"
    }
   ],
   "source": [
    "print(biker_class.select_dtypes('object').shape)\n",
    "biker_class.select_dtypes('object').head(3)"
   ]
  },
  {
   "cell_type": "markdown",
   "metadata": {},
   "source": [
    "### Numeric features (73)"
   ]
  },
  {
   "cell_type": "code",
   "execution_count": 47,
   "metadata": {},
   "outputs": [
    {
     "data": {
      "text/plain": [
       "Index(['age', 'year', 'stage', 'position', 'time_in_s', 'gc', 'gc_time_in_s',\n",
       "       'mount_jerseys', 'point_jerseys', 'sprint_jerseys', 'youth_jerseys',\n",
       "       'followers', 'total_wins', 'n_tours', 'n_stages', 'avg_year',\n",
       "       'best_pos_ovr', 'avg_pos_ovr', 'worst_pos_ovr', 'best_time_ovr',\n",
       "       'avg_time_ovr', 'worst_time_ovr', 'best_gc_ovr', 'avg_gc_ovr',\n",
       "       'worst_gc_ovr', 'best_gc_time_ovr', 'avg_gc_time_ovr',\n",
       "       'worst_gc_time_ovr', 'n_top10_ovr', 'n_win_ovr', 'best_pos_ovr_l3',\n",
       "       'avg_pos_ovr_l3', 'worst_pos_ovr_l3', 'best_time_ovr_l3',\n",
       "       'avg_time_ovr_l3', 'worst_time_ovr_l3', 'best_gc_ovr_l3',\n",
       "       'avg_gc_ovr_l3', 'worst_gc_ovr_l3', 'best_gc_time_ovr_l3',\n",
       "       'avg_gc_time_ovr_l3', 'worst_gc_time_ovr_l3', 'n_top10_l3', 'n_win_l3',\n",
       "       'perc_top10_ovr', 'perc_win_ovr', '2015_div', '2015_fc_rank',\n",
       "       '2015_race_days', '2015_wins', '2015_year_km', '2016_div',\n",
       "       '2016_fc_rank', '2016_race_days', '2016_wins', '2016_year_km',\n",
       "       '2017_div', '2017_fc_rank', '2017_race_days', '2017_wins',\n",
       "       '2017_year_km', '2018_div', '2018_fc_rank', '2018_race_days',\n",
       "       '2018_wins', '2018_year_km', 'stage_type_code', 'dist', 'temp',\n",
       "       'rel_humid', 'wind_speed', 'clouds_ovrl', 'visibility'],\n",
       "      dtype='object')"
      ]
     },
     "execution_count": 47,
     "metadata": {},
     "output_type": "execute_result"
    }
   ],
   "source": [
    "biker_class.select_dtypes('number').columns"
   ]
  },
  {
   "cell_type": "code",
   "execution_count": 48,
   "metadata": {},
   "outputs": [
    {
     "name": "stdout",
     "output_type": "stream",
     "text": [
      "(5255, 73)\n"
     ]
    },
    {
     "data": {
      "text/html": [
       "<div>\n",
       "<style scoped>\n",
       "    .dataframe tbody tr th:only-of-type {\n",
       "        vertical-align: middle;\n",
       "    }\n",
       "\n",
       "    .dataframe tbody tr th {\n",
       "        vertical-align: top;\n",
       "    }\n",
       "\n",
       "    .dataframe thead th {\n",
       "        text-align: right;\n",
       "    }\n",
       "</style>\n",
       "<table border=\"1\" class=\"dataframe\">\n",
       "  <thead>\n",
       "    <tr style=\"text-align: right;\">\n",
       "      <th></th>\n",
       "      <th>age</th>\n",
       "      <th>year</th>\n",
       "      <th>stage</th>\n",
       "      <th>position</th>\n",
       "      <th>time_in_s</th>\n",
       "      <th>gc</th>\n",
       "      <th>gc_time_in_s</th>\n",
       "      <th>mount_jerseys</th>\n",
       "      <th>point_jerseys</th>\n",
       "      <th>sprint_jerseys</th>\n",
       "      <th>...</th>\n",
       "      <th>2018_race_days</th>\n",
       "      <th>2018_wins</th>\n",
       "      <th>2018_year_km</th>\n",
       "      <th>stage_type_code</th>\n",
       "      <th>dist</th>\n",
       "      <th>temp</th>\n",
       "      <th>rel_humid</th>\n",
       "      <th>wind_speed</th>\n",
       "      <th>clouds_ovrl</th>\n",
       "      <th>visibility</th>\n",
       "    </tr>\n",
       "  </thead>\n",
       "  <tbody>\n",
       "    <tr>\n",
       "      <th>0</th>\n",
       "      <td>31</td>\n",
       "      <td>2014</td>\n",
       "      <td>1</td>\n",
       "      <td>1</td>\n",
       "      <td>20870.0</td>\n",
       "      <td>1</td>\n",
       "      <td>20860.0</td>\n",
       "      <td>0</td>\n",
       "      <td>6</td>\n",
       "      <td>0</td>\n",
       "      <td>...</td>\n",
       "      <td>0.0</td>\n",
       "      <td>0.0</td>\n",
       "      <td>0.0</td>\n",
       "      <td>1</td>\n",
       "      <td>226.0</td>\n",
       "      <td>31.5</td>\n",
       "      <td>38</td>\n",
       "      <td>2</td>\n",
       "      <td>6</td>\n",
       "      <td>9</td>\n",
       "    </tr>\n",
       "    <tr>\n",
       "      <th>1</th>\n",
       "      <td>24</td>\n",
       "      <td>2014</td>\n",
       "      <td>1</td>\n",
       "      <td>2</td>\n",
       "      <td>20870.0</td>\n",
       "      <td>2</td>\n",
       "      <td>20864.0</td>\n",
       "      <td>0</td>\n",
       "      <td>2</td>\n",
       "      <td>0</td>\n",
       "      <td>...</td>\n",
       "      <td>44.0</td>\n",
       "      <td>0.0</td>\n",
       "      <td>7349.7</td>\n",
       "      <td>1</td>\n",
       "      <td>226.0</td>\n",
       "      <td>31.5</td>\n",
       "      <td>38</td>\n",
       "      <td>2</td>\n",
       "      <td>6</td>\n",
       "      <td>9</td>\n",
       "    </tr>\n",
       "    <tr>\n",
       "      <th>2</th>\n",
       "      <td>34</td>\n",
       "      <td>2014</td>\n",
       "      <td>1</td>\n",
       "      <td>3</td>\n",
       "      <td>20870.0</td>\n",
       "      <td>3</td>\n",
       "      <td>20866.0</td>\n",
       "      <td>0</td>\n",
       "      <td>0</td>\n",
       "      <td>0</td>\n",
       "      <td>...</td>\n",
       "      <td>65.0</td>\n",
       "      <td>0.0</td>\n",
       "      <td>10322.1</td>\n",
       "      <td>1</td>\n",
       "      <td>226.0</td>\n",
       "      <td>31.5</td>\n",
       "      <td>38</td>\n",
       "      <td>2</td>\n",
       "      <td>6</td>\n",
       "      <td>9</td>\n",
       "    </tr>\n",
       "    <tr>\n",
       "      <th>3</th>\n",
       "      <td>25</td>\n",
       "      <td>2014</td>\n",
       "      <td>1</td>\n",
       "      <td>4</td>\n",
       "      <td>20870.0</td>\n",
       "      <td>6</td>\n",
       "      <td>20870.0</td>\n",
       "      <td>0</td>\n",
       "      <td>1</td>\n",
       "      <td>0</td>\n",
       "      <td>...</td>\n",
       "      <td>63.0</td>\n",
       "      <td>0.0</td>\n",
       "      <td>10485.0</td>\n",
       "      <td>1</td>\n",
       "      <td>226.0</td>\n",
       "      <td>31.5</td>\n",
       "      <td>38</td>\n",
       "      <td>2</td>\n",
       "      <td>6</td>\n",
       "      <td>9</td>\n",
       "    </tr>\n",
       "    <tr>\n",
       "      <th>4</th>\n",
       "      <td>23</td>\n",
       "      <td>2014</td>\n",
       "      <td>1</td>\n",
       "      <td>5</td>\n",
       "      <td>20870.0</td>\n",
       "      <td>7</td>\n",
       "      <td>20870.0</td>\n",
       "      <td>1</td>\n",
       "      <td>0</td>\n",
       "      <td>0</td>\n",
       "      <td>...</td>\n",
       "      <td>17.0</td>\n",
       "      <td>0.0</td>\n",
       "      <td>2733.3</td>\n",
       "      <td>1</td>\n",
       "      <td>226.0</td>\n",
       "      <td>31.5</td>\n",
       "      <td>38</td>\n",
       "      <td>2</td>\n",
       "      <td>6</td>\n",
       "      <td>9</td>\n",
       "    </tr>\n",
       "  </tbody>\n",
       "</table>\n",
       "<p>5 rows × 73 columns</p>\n",
       "</div>"
      ],
      "text/plain": [
       "   age  year  stage  position  time_in_s  gc  gc_time_in_s  mount_jerseys  \\\n",
       "0   31  2014      1         1    20870.0   1       20860.0              0   \n",
       "1   24  2014      1         2    20870.0   2       20864.0              0   \n",
       "2   34  2014      1         3    20870.0   3       20866.0              0   \n",
       "3   25  2014      1         4    20870.0   6       20870.0              0   \n",
       "4   23  2014      1         5    20870.0   7       20870.0              1   \n",
       "\n",
       "   point_jerseys  sprint_jerseys     ...      2018_race_days  2018_wins  \\\n",
       "0              6               0     ...                 0.0        0.0   \n",
       "1              2               0     ...                44.0        0.0   \n",
       "2              0               0     ...                65.0        0.0   \n",
       "3              1               0     ...                63.0        0.0   \n",
       "4              0               0     ...                17.0        0.0   \n",
       "\n",
       "   2018_year_km  stage_type_code   dist  temp  rel_humid  wind_speed  \\\n",
       "0           0.0                1  226.0  31.5         38           2   \n",
       "1        7349.7                1  226.0  31.5         38           2   \n",
       "2       10322.1                1  226.0  31.5         38           2   \n",
       "3       10485.0                1  226.0  31.5         38           2   \n",
       "4        2733.3                1  226.0  31.5         38           2   \n",
       "\n",
       "   clouds_ovrl  visibility  \n",
       "0            6           9  \n",
       "1            6           9  \n",
       "2            6           9  \n",
       "3            6           9  \n",
       "4            6           9  \n",
       "\n",
       "[5 rows x 73 columns]"
      ]
     },
     "execution_count": 48,
     "metadata": {},
     "output_type": "execute_result"
    }
   ],
   "source": [
    "print(biker_class.select_dtypes('number').shape)\n",
    "biker_class.select_dtypes('number').head()"
   ]
  },
  {
   "cell_type": "markdown",
   "metadata": {},
   "source": [
    "## Transforming features into dummy categories & scaling values"
   ]
  },
  {
   "cell_type": "code",
   "execution_count": 49,
   "metadata": {},
   "outputs": [],
   "source": [
    "# from sklearn.preprocessing import MinMaxScaler\n",
    "from sklearn.preprocessing import StandardScaler"
   ]
  },
  {
   "cell_type": "code",
   "execution_count": 50,
   "metadata": {},
   "outputs": [
    {
     "name": "stderr",
     "output_type": "stream",
     "text": [
      "C:\\Users\\cyberdeck\\Anaconda3\\lib\\site-packages\\sklearn\\preprocessing\\data.py:617: DataConversionWarning: Data with input dtype int64, float64 were all converted to float64 by StandardScaler.\n",
      "  return self.partial_fit(X, y)\n",
      "C:\\Users\\cyberdeck\\Anaconda3\\lib\\site-packages\\sklearn\\base.py:462: DataConversionWarning: Data with input dtype int64, float64 were all converted to float64 by StandardScaler.\n",
      "  return self.fit(X, **fit_params).transform(X)\n"
     ]
    }
   ],
   "source": [
    "data_numerics = biker_class.select_dtypes(include = ['number'])\n",
    "# Skipping 'name' column\n",
    "data_categorical = biker_class.select_dtypes(exclude = ['number']).iloc[:,1:]\n",
    "\n",
    "categorical_dummies = pd.get_dummies(data_categorical)\n",
    "\n",
    "numeric_scaler = StandardScaler()\n",
    "numerics_scaled = numeric_scaler.fit_transform(data_numerics)\n",
    "numerics_scaled = pd.DataFrame(numerics_scaled, columns=data_numerics.columns, index=data_numerics.index)\n",
    "\n",
    "data_adult = pd.concat([biker_class.name, categorical_dummies, numerics_scaled], axis=1)"
   ]
  },
  {
   "cell_type": "code",
   "execution_count": 51,
   "metadata": {
    "scrolled": true
   },
   "outputs": [
    {
     "name": "stdout",
     "output_type": "stream",
     "text": [
      "(5255, 152)\n"
     ]
    },
    {
     "data": {
      "text/html": [
       "<div>\n",
       "<style scoped>\n",
       "    .dataframe tbody tr th:only-of-type {\n",
       "        vertical-align: middle;\n",
       "    }\n",
       "\n",
       "    .dataframe tbody tr th {\n",
       "        vertical-align: top;\n",
       "    }\n",
       "\n",
       "    .dataframe thead th {\n",
       "        text-align: right;\n",
       "    }\n",
       "</style>\n",
       "<table border=\"1\" class=\"dataframe\">\n",
       "  <thead>\n",
       "    <tr style=\"text-align: right;\">\n",
       "      <th></th>\n",
       "      <th>name</th>\n",
       "      <th>date</th>\n",
       "      <th>nation_Algeria</th>\n",
       "      <th>nation_Argentina</th>\n",
       "      <th>nation_Australia</th>\n",
       "      <th>nation_Austria</th>\n",
       "      <th>nation_Belarus</th>\n",
       "      <th>nation_Belgium</th>\n",
       "      <th>nation_Brazil</th>\n",
       "      <th>nation_Canada</th>\n",
       "      <th>...</th>\n",
       "      <th>2018_race_days</th>\n",
       "      <th>2018_wins</th>\n",
       "      <th>2018_year_km</th>\n",
       "      <th>stage_type_code</th>\n",
       "      <th>dist</th>\n",
       "      <th>temp</th>\n",
       "      <th>rel_humid</th>\n",
       "      <th>wind_speed</th>\n",
       "      <th>clouds_ovrl</th>\n",
       "      <th>visibility</th>\n",
       "    </tr>\n",
       "  </thead>\n",
       "  <tbody>\n",
       "    <tr>\n",
       "      <th>0</th>\n",
       "      <td>Y.Hutarovich</td>\n",
       "      <td>2014-08-03</td>\n",
       "      <td>0</td>\n",
       "      <td>0</td>\n",
       "      <td>0</td>\n",
       "      <td>0</td>\n",
       "      <td>1</td>\n",
       "      <td>0</td>\n",
       "      <td>0</td>\n",
       "      <td>0</td>\n",
       "      <td>...</td>\n",
       "      <td>-1.987928</td>\n",
       "      <td>-0.404551</td>\n",
       "      <td>-1.951352</td>\n",
       "      <td>-0.73624</td>\n",
       "      <td>1.13983</td>\n",
       "      <td>1.405869</td>\n",
       "      <td>-0.032021</td>\n",
       "      <td>-0.443167</td>\n",
       "      <td>0.614099</td>\n",
       "      <td>1.247777</td>\n",
       "    </tr>\n",
       "    <tr>\n",
       "      <th>1</th>\n",
       "      <td>R.Maikin</td>\n",
       "      <td>2014-08-03</td>\n",
       "      <td>0</td>\n",
       "      <td>0</td>\n",
       "      <td>0</td>\n",
       "      <td>0</td>\n",
       "      <td>0</td>\n",
       "      <td>0</td>\n",
       "      <td>0</td>\n",
       "      <td>0</td>\n",
       "      <td>...</td>\n",
       "      <td>-0.165444</td>\n",
       "      <td>-0.404551</td>\n",
       "      <td>-0.011144</td>\n",
       "      <td>-0.73624</td>\n",
       "      <td>1.13983</td>\n",
       "      <td>1.405869</td>\n",
       "      <td>-0.032021</td>\n",
       "      <td>-0.443167</td>\n",
       "      <td>0.614099</td>\n",
       "      <td>1.247777</td>\n",
       "    </tr>\n",
       "    <tr>\n",
       "      <th>2</th>\n",
       "      <td>M.Mori</td>\n",
       "      <td>2014-08-03</td>\n",
       "      <td>0</td>\n",
       "      <td>0</td>\n",
       "      <td>0</td>\n",
       "      <td>0</td>\n",
       "      <td>0</td>\n",
       "      <td>0</td>\n",
       "      <td>0</td>\n",
       "      <td>0</td>\n",
       "      <td>...</td>\n",
       "      <td>0.704378</td>\n",
       "      <td>-0.404551</td>\n",
       "      <td>0.773524</td>\n",
       "      <td>-0.73624</td>\n",
       "      <td>1.13983</td>\n",
       "      <td>1.405869</td>\n",
       "      <td>-0.032021</td>\n",
       "      <td>-0.443167</td>\n",
       "      <td>0.614099</td>\n",
       "      <td>1.247777</td>\n",
       "    </tr>\n",
       "    <tr>\n",
       "      <th>3</th>\n",
       "      <td>G.Boivin</td>\n",
       "      <td>2014-08-03</td>\n",
       "      <td>0</td>\n",
       "      <td>0</td>\n",
       "      <td>0</td>\n",
       "      <td>0</td>\n",
       "      <td>0</td>\n",
       "      <td>0</td>\n",
       "      <td>0</td>\n",
       "      <td>1</td>\n",
       "      <td>...</td>\n",
       "      <td>0.621538</td>\n",
       "      <td>-0.404551</td>\n",
       "      <td>0.816527</td>\n",
       "      <td>-0.73624</td>\n",
       "      <td>1.13983</td>\n",
       "      <td>1.405869</td>\n",
       "      <td>-0.032021</td>\n",
       "      <td>-0.443167</td>\n",
       "      <td>0.614099</td>\n",
       "      <td>1.247777</td>\n",
       "    </tr>\n",
       "    <tr>\n",
       "      <th>4</th>\n",
       "      <td>M.Haller</td>\n",
       "      <td>2014-08-03</td>\n",
       "      <td>0</td>\n",
       "      <td>0</td>\n",
       "      <td>0</td>\n",
       "      <td>1</td>\n",
       "      <td>0</td>\n",
       "      <td>0</td>\n",
       "      <td>0</td>\n",
       "      <td>0</td>\n",
       "      <td>...</td>\n",
       "      <td>-1.283787</td>\n",
       "      <td>-0.404551</td>\n",
       "      <td>-1.229803</td>\n",
       "      <td>-0.73624</td>\n",
       "      <td>1.13983</td>\n",
       "      <td>1.405869</td>\n",
       "      <td>-0.032021</td>\n",
       "      <td>-0.443167</td>\n",
       "      <td>0.614099</td>\n",
       "      <td>1.247777</td>\n",
       "    </tr>\n",
       "  </tbody>\n",
       "</table>\n",
       "<p>5 rows × 152 columns</p>\n",
       "</div>"
      ],
      "text/plain": [
       "           name       date  nation_Algeria  nation_Argentina  \\\n",
       "0  Y.Hutarovich 2014-08-03               0                 0   \n",
       "1      R.Maikin 2014-08-03               0                 0   \n",
       "2        M.Mori 2014-08-03               0                 0   \n",
       "3      G.Boivin 2014-08-03               0                 0   \n",
       "4      M.Haller 2014-08-03               0                 0   \n",
       "\n",
       "   nation_Australia  nation_Austria  nation_Belarus  nation_Belgium  \\\n",
       "0                 0               0               1               0   \n",
       "1                 0               0               0               0   \n",
       "2                 0               0               0               0   \n",
       "3                 0               0               0               0   \n",
       "4                 0               1               0               0   \n",
       "\n",
       "   nation_Brazil  nation_Canada     ...      2018_race_days  2018_wins  \\\n",
       "0              0              0     ...           -1.987928  -0.404551   \n",
       "1              0              0     ...           -0.165444  -0.404551   \n",
       "2              0              0     ...            0.704378  -0.404551   \n",
       "3              0              1     ...            0.621538  -0.404551   \n",
       "4              0              0     ...           -1.283787  -0.404551   \n",
       "\n",
       "   2018_year_km  stage_type_code     dist      temp  rel_humid  wind_speed  \\\n",
       "0     -1.951352         -0.73624  1.13983  1.405869  -0.032021   -0.443167   \n",
       "1     -0.011144         -0.73624  1.13983  1.405869  -0.032021   -0.443167   \n",
       "2      0.773524         -0.73624  1.13983  1.405869  -0.032021   -0.443167   \n",
       "3      0.816527         -0.73624  1.13983  1.405869  -0.032021   -0.443167   \n",
       "4     -1.229803         -0.73624  1.13983  1.405869  -0.032021   -0.443167   \n",
       "\n",
       "   clouds_ovrl  visibility  \n",
       "0     0.614099    1.247777  \n",
       "1     0.614099    1.247777  \n",
       "2     0.614099    1.247777  \n",
       "3     0.614099    1.247777  \n",
       "4     0.614099    1.247777  \n",
       "\n",
       "[5 rows x 152 columns]"
      ]
     },
     "execution_count": 51,
     "metadata": {},
     "output_type": "execute_result"
    }
   ],
   "source": [
    "print(data_adult.shape)\n",
    "data_adult.head()"
   ]
  },
  {
   "cell_type": "markdown",
   "metadata": {},
   "source": [
    "## Modeling"
   ]
  },
  {
   "cell_type": "code",
   "execution_count": 52,
   "metadata": {},
   "outputs": [],
   "source": [
    "from sklearn.model_selection import cross_val_score, KFold, StratifiedKFold\n",
    "from sklearn.metrics import balanced_accuracy_score, precision_score, recall_score, f1_score\n",
    "from sklearn.metrics import auc\n",
    "from sklearn.metrics import classification_report\n",
    "from sklearn.metrics import precision_recall_curve\n",
    "from sklearn.metrics import average_precision_score\n",
    "\n",
    "from sklearn.model_selection import RandomizedSearchCV, GridSearchCV\n",
    "\n",
    "from scipy.stats.distributions import uniform, randint\n",
    "\n",
    "from sklearn.svm import SVC\n",
    "from sklearn.linear_model import LogisticRegression\n",
    "from sklearn.neighbors import KNeighborsClassifier"
   ]
  },
  {
   "cell_type": "code",
   "execution_count": 53,
   "metadata": {},
   "outputs": [
    {
     "data": {
      "text/plain": [
       "0.9352997145575642"
      ]
     },
     "execution_count": 53,
     "metadata": {},
     "output_type": "execute_result"
    }
   ],
   "source": [
    "# Baseline prediction for 0s\n",
    "1 - y.mean()"
   ]
  },
  {
   "cell_type": "code",
   "execution_count": 54,
   "metadata": {},
   "outputs": [],
   "source": [
    "# Spliting data depending on the date column (not random), because going down the dataframe it is 'sequencial' data,\n",
    "# year by year, stage by stage\n",
    "\n",
    "# Spliting observations to prevent data leakage\n",
    "# Split made after last stage of year 2017\n",
    "cutoff = 3120\n",
    "\n",
    "X_train = data_adult.iloc[:cutoff,:]\n",
    "X_test = data_adult.iloc[cutoff:,:]\n",
    "\n",
    "y_train = y[:cutoff]\n",
    "y_test = y[cutoff:] "
   ]
  },
  {
   "cell_type": "code",
   "execution_count": 55,
   "metadata": {},
   "outputs": [
    {
     "name": "stdout",
     "output_type": "stream",
     "text": [
      "(3120, 152) (2135, 152)\n",
      "(3120,) (2135,)\n"
     ]
    }
   ],
   "source": [
    "print(X_train.shape, X_test.shape)\n",
    "print(y_train.shape, y_test.shape)"
   ]
  },
  {
   "cell_type": "code",
   "execution_count": 56,
   "metadata": {},
   "outputs": [
    {
     "name": "stdout",
     "output_type": "stream",
     "text": [
      "Train batch ------------\n",
      "0    2930\n",
      "1     190\n",
      "Name: y_label, dtype: int64\n",
      "\n",
      "Test batch -------------\n",
      "0    1985\n",
      "1     150\n",
      "Name: y_label, dtype: int64\n"
     ]
    }
   ],
   "source": [
    "print('Train batch ------------')\n",
    "print(y_train.value_counts())\n",
    "print()\n",
    "print('Test batch -------------')\n",
    "print(y_test.value_counts())"
   ]
  },
  {
   "cell_type": "markdown",
   "metadata": {},
   "source": [
    "### Baseline"
   ]
  },
  {
   "cell_type": "code",
   "execution_count": 57,
   "metadata": {},
   "outputs": [],
   "source": [
    "# Helper function plotting Precision-Recall Curve instead of a ROC Curve due to class imbalance\n",
    "\n",
    "def precission_recall_plot(classifier, X_test):\n",
    "    # predict probabilities\n",
    "    probas = classifier.predict_proba(X_test)\n",
    "    # keep probabilities for the positive outcome only\n",
    "    probas = probas[:, 1]\n",
    "    # predict class values\n",
    "    y_pred = classifier.predict(X_test)\n",
    "    # calculate precision-recall curve\n",
    "    precision, recall, thresholds = precision_recall_curve(y_test, probas)\n",
    "    # calculate F1 score\n",
    "    f1 = f1_score(y_test, y_pred)\n",
    "    # calculate precision-recall AUC\n",
    "    auc_score = auc(recall, precision)\n",
    "    # calculate average precision score\n",
    "    ap = average_precision_score(y_test, probas, average='weighted')\n",
    "    print('f1=%.3f auc=%.3f ap=%.3f' % (f1, auc_score, ap))\n",
    "    plt.figure(figsize=(5,5))\n",
    "    # plot no skill model\n",
    "    plt.plot([0, 1], [0.5, 0.5], linestyle='--', linewidth=1)\n",
    "    # plot the roc curve for the model\n",
    "    plt.plot(recall, precision, marker='.', markersize=4, color='orangered', linewidth=1)\n",
    "    # show the plot\n",
    "    plt.xlabel('Recall (Sensitivity)')\n",
    "    plt.ylabel('Precision')\n",
    "    plt.ylim([-0.01, 1.01])\n",
    "    plt.xlim([-0.01, 1.01])\n",
    "    plt.title('2-class Precision-Recall curve: AP={0:0.3f}'.format(ap))\n",
    "    plt.show()\n",
    "    \n",
    "def balanced_accuracy_value(classifier):\n",
    "    return balanced_accuracy_score(y_test, classifier.predict(X_test_cut))"
   ]
  },
  {
   "cell_type": "code",
   "execution_count": 58,
   "metadata": {},
   "outputs": [],
   "source": [
    "X_train_cut = X_train.iloc[:,2:]\n",
    "X_test_cut = X_test.iloc[:,2:]"
   ]
  },
  {
   "cell_type": "markdown",
   "metadata": {},
   "source": [
    "**Logistic Regression**"
   ]
  },
  {
   "cell_type": "code",
   "execution_count": 59,
   "metadata": {},
   "outputs": [
    {
     "name": "stdout",
     "output_type": "stream",
     "text": [
      "              precision    recall  f1-score   support\n",
      "\n",
      "           0       0.97      0.98      0.98      1985\n",
      "           1       0.75      0.62      0.68       150\n",
      "\n",
      "   micro avg       0.96      0.96      0.96      2135\n",
      "   macro avg       0.86      0.80      0.83      2135\n",
      "weighted avg       0.96      0.96      0.96      2135\n",
      "\n",
      "Accuracy: 0.802191435768262\n"
     ]
    }
   ],
   "source": [
    "base_lr = LogisticRegression(solver='liblinear')\n",
    "base_lr.fit(X_train_cut, y_train)\n",
    "print(classification_report(y_test, base_lr.predict(X_test_cut)))\n",
    "print('Accuracy: %s' % balanced_accuracy_value(base_lr))"
   ]
  },
  {
   "cell_type": "code",
   "execution_count": 60,
   "metadata": {},
   "outputs": [
    {
     "name": "stdout",
     "output_type": "stream",
     "text": [
      "f1=0.679 auc=0.782 ap=0.783\n"
     ]
    },
    {
     "data": {
      "image/png": "[encoded data removed]",
      "text/plain": [
       "<Figure size 360x360 with 1 Axes>"
      ]
     },
     "metadata": {},
     "output_type": "display_data"
    }
   ],
   "source": [
    "precission_recall_plot(base_lr, X_test_cut)"
   ]
  },
  {
   "cell_type": "markdown",
   "metadata": {},
   "source": [
    "**Support Vector Machines**"
   ]
  },
  {
   "cell_type": "code",
   "execution_count": 61,
   "metadata": {},
   "outputs": [
    {
     "name": "stdout",
     "output_type": "stream",
     "text": [
      "              precision    recall  f1-score   support\n",
      "\n",
      "           0       0.99      0.85      0.91      1985\n",
      "           1       0.30      0.84      0.44       150\n",
      "\n",
      "   micro avg       0.85      0.85      0.85      2135\n",
      "   macro avg       0.64      0.85      0.68      2135\n",
      "weighted avg       0.94      0.85      0.88      2135\n",
      "\n",
      "Accuracy: 0.8459445843828715\n"
     ]
    }
   ],
   "source": [
    "base_svc = SVC(class_weight='balanced', probability=True, gamma='auto')\n",
    "base_svc.fit(X_train_cut, y_train)\n",
    "print(classification_report(y_test, base_svc.predict(X_test_cut)))\n",
    "print('Accuracy: %s' % balanced_accuracy_value(base_svc))"
   ]
  },
  {
   "cell_type": "code",
   "execution_count": 63,
   "metadata": {},
   "outputs": [
    {
     "name": "stdout",
     "output_type": "stream",
     "text": [
      "f1=0.442 auc=0.501 ap=0.503\n"
     ]
    },
    {
     "data": {
      "image/png": "[encoded data removed]",
      "text/plain": [
       "<Figure size 360x360 with 1 Axes>"
      ]
     },
     "metadata": {},
     "output_type": "display_data"
    }
   ],
   "source": [
    "precission_recall_plot(base_svc, X_test_cut)"
   ]
  },
  {
   "cell_type": "markdown",
   "metadata": {},
   "source": [
    "### Cross-validation"
   ]
  },
  {
   "cell_type": "markdown",
   "metadata": {},
   "source": [
    "**Logistic Regression**"
   ]
  },
  {
   "cell_type": "code",
   "execution_count": 64,
   "metadata": {
    "scrolled": true
   },
   "outputs": [
    {
     "data": {
      "text/plain": [
       "LogisticRegression(C=1.0, class_weight='balanced', dual=False,\n",
       "          fit_intercept=True, intercept_scaling=1, max_iter=100,\n",
       "          multi_class='warn', n_jobs=None, penalty='l2', random_state=42,\n",
       "          solver='liblinear', tol=0.0001, verbose=0, warm_start=False)"
      ]
     },
     "execution_count": 64,
     "metadata": {},
     "output_type": "execute_result"
    }
   ],
   "source": [
    "lr = LogisticRegression(class_weight='balanced', random_state=42, solver='liblinear')\n",
    "scores_lr = cross_val_score(X=X_train_cut,\n",
    "                         y=y_train,\n",
    "                         estimator=lr,\n",
    "                         cv=StratifiedKFold(10, shuffle=True),\n",
    "                         scoring='balanced_accuracy',\n",
    "                         n_jobs=-1)\n",
    "lr.fit(X_train_cut, y_train)"
   ]
  },
  {
   "cell_type": "code",
   "execution_count": 65,
   "metadata": {},
   "outputs": [
    {
     "name": "stdout",
     "output_type": "stream",
     "text": [
      "              precision    recall  f1-score   support\n",
      "\n",
      "           0       0.90      1.00      0.95      1795\n",
      "           1       0.99      0.44      0.61       340\n",
      "\n",
      "   micro avg       0.91      0.91      0.91      2135\n",
      "   macro avg       0.95      0.72      0.78      2135\n",
      "weighted avg       0.92      0.91      0.89      2135\n",
      "\n",
      "Accuracy: 0.9356565475121249\n"
     ]
    }
   ],
   "source": [
    "print(classification_report(lr.predict(X_test_cut), y_test))\n",
    "print('Accuracy: %s' % scores_lr.mean())"
   ]
  },
  {
   "cell_type": "code",
   "execution_count": 66,
   "metadata": {},
   "outputs": [
    {
     "name": "stdout",
     "output_type": "stream",
     "text": [
      "f1=0.608 auc=0.805 ap=0.806\n"
     ]
    },
    {
     "data": {
      "image/png": "[encoded data removed]",
      "text/plain": [
       "<Figure size 360x360 with 1 Axes>"
      ]
     },
     "metadata": {},
     "output_type": "display_data"
    }
   ],
   "source": [
    "precission_recall_plot(lr, X_test_cut)"
   ]
  },
  {
   "cell_type": "markdown",
   "metadata": {},
   "source": [
    "**Support Vector Machines**"
   ]
  },
  {
   "cell_type": "code",
   "execution_count": 67,
   "metadata": {},
   "outputs": [],
   "source": [
    "svc = SVC(class_weight='balanced', probability=True, random_state=42, gamma='auto')\n",
    "scores_svc = cross_val_score(X=X_train_cut,\n",
    "                         y=y_train,\n",
    "                         estimator=svc,\n",
    "                         cv=StratifiedKFold(10, shuffle=True),\n",
    "                         scoring='balanced_accuracy',\n",
    "                         n_jobs=-1)"
   ]
  },
  {
   "cell_type": "code",
   "execution_count": 68,
   "metadata": {},
   "outputs": [
    {
     "data": {
      "text/plain": [
       "SVC(C=1.0, cache_size=200, class_weight='balanced', coef0=0.0,\n",
       "  decision_function_shape='ovr', degree=3, gamma='auto', kernel='rbf',\n",
       "  max_iter=-1, probability=True, random_state=42, shrinking=True,\n",
       "  tol=0.001, verbose=False)"
      ]
     },
     "execution_count": 68,
     "metadata": {},
     "output_type": "execute_result"
    }
   ],
   "source": [
    "svc.fit(X_train_cut, y_train)"
   ]
  },
  {
   "cell_type": "code",
   "execution_count": 69,
   "metadata": {},
   "outputs": [
    {
     "name": "stdout",
     "output_type": "stream",
     "text": [
      "              precision    recall  f1-score   support\n",
      "\n",
      "           0       0.85      0.99      0.91      1715\n",
      "           1       0.84      0.30      0.44       420\n",
      "\n",
      "   micro avg       0.85      0.85      0.85      2135\n",
      "   macro avg       0.85      0.64      0.68      2135\n",
      "weighted avg       0.85      0.85      0.82      2135\n",
      "\n",
      "Accuracy: 0.8237201365187712\n"
     ]
    }
   ],
   "source": [
    "print(classification_report(svc.predict(X_test_cut), y_test))\n",
    "print('Accuracy: %s' % scores_svc.mean())"
   ]
  },
  {
   "cell_type": "code",
   "execution_count": 70,
   "metadata": {},
   "outputs": [
    {
     "name": "stdout",
     "output_type": "stream",
     "text": [
      "f1=0.442 auc=0.501 ap=0.503\n"
     ]
    },
    {
     "data": {
      "image/png": "[encoded data removed]",
      "text/plain": [
       "<Figure size 360x360 with 1 Axes>"
      ]
     },
     "metadata": {},
     "output_type": "display_data"
    }
   ],
   "source": [
    "precission_recall_plot(svc, X_test_cut)"
   ]
  },
  {
   "cell_type": "markdown",
   "metadata": {},
   "source": [
    "### Param grid with RandomizedSearchCV"
   ]
  },
  {
   "cell_type": "markdown",
   "metadata": {},
   "source": [
    "**Logistic Regression**"
   ]
  },
  {
   "cell_type": "code",
   "execution_count": 71,
   "metadata": {},
   "outputs": [],
   "source": [
    "param_grid_lr = {'penalty':['l1','l2'],\n",
    "              'C':uniform(0.25,10.0-0.25)}"
   ]
  },
  {
   "cell_type": "code",
   "execution_count": 72,
   "metadata": {},
   "outputs": [],
   "source": [
    "grid_lr = RandomizedSearchCV(\n",
    "                        n_iter=40, \n",
    "                        estimator=lr, \n",
    "                        cv=StratifiedKFold(10, shuffle=True), \n",
    "                        param_distributions=param_grid_lr,\n",
    "                        scoring='balanced_accuracy',\n",
    "                        n_jobs=-1\n",
    "                        )"
   ]
  },
  {
   "cell_type": "code",
   "execution_count": 73,
   "metadata": {},
   "outputs": [
    {
     "data": {
      "text/plain": [
       "RandomizedSearchCV(cv=StratifiedKFold(n_splits=10, random_state=None, shuffle=True),\n",
       "          error_score='raise-deprecating',\n",
       "          estimator=LogisticRegression(C=1.0, class_weight='balanced', dual=False,\n",
       "          fit_intercept=True, intercept_scaling=1, max_iter=100,\n",
       "          multi_class='warn', n_jobs=None, penalty='l2', random_state=42,\n",
       "          solver='liblinear', tol=0.0001, verbose=0, warm_start=False),\n",
       "          fit_params=None, iid='warn', n_iter=40, n_jobs=-1,\n",
       "          param_distributions={'penalty': ['l1', 'l2'], 'C': <scipy.stats._distn_infrastructure.rv_frozen object at 0x0000022991365390>},\n",
       "          pre_dispatch='2*n_jobs', random_state=None, refit=True,\n",
       "          return_train_score='warn', scoring='balanced_accuracy',\n",
       "          verbose=0)"
      ]
     },
     "execution_count": 73,
     "metadata": {},
     "output_type": "execute_result"
    }
   ],
   "source": [
    "grid_lr.fit(X_train_cut, y_train)"
   ]
  },
  {
   "cell_type": "code",
   "execution_count": 74,
   "metadata": {},
   "outputs": [
    {
     "data": {
      "text/plain": [
       "{'C': 2.5004228783666367, 'penalty': 'l1'}"
      ]
     },
     "execution_count": 74,
     "metadata": {},
     "output_type": "execute_result"
    }
   ],
   "source": [
    "grid_lr.best_params_"
   ]
  },
  {
   "cell_type": "code",
   "execution_count": 76,
   "metadata": {},
   "outputs": [
    {
     "name": "stdout",
     "output_type": "stream",
     "text": [
      "              precision    recall  f1-score   support\n",
      "\n",
      "           0       0.98      1.00      0.99      1951\n",
      "           1       1.00      0.82      0.90       184\n",
      "\n",
      "   micro avg       0.98      0.98      0.98      2135\n",
      "   macro avg       0.99      0.91      0.94      2135\n",
      "weighted avg       0.98      0.98      0.98      2135\n",
      "\n",
      "Accuracy: 0.9868870127537274\n"
     ]
    }
   ],
   "source": [
    "print(classification_report(grid_lr.predict(X_test_cut), y_test))\n",
    "print('Accuracy: %s' % grid_lr.best_score_)"
   ]
  },
  {
   "cell_type": "code",
   "execution_count": 77,
   "metadata": {},
   "outputs": [
    {
     "name": "stdout",
     "output_type": "stream",
     "text": [
      "f1=0.898 auc=0.982 ap=0.982\n"
     ]
    },
    {
     "data": {
      "image/png": "[encoded data removed]",
      "text/plain": [
       "<Figure size 360x360 with 1 Axes>"
      ]
     },
     "metadata": {},
     "output_type": "display_data"
    }
   ],
   "source": [
    "precission_recall_plot(grid_lr, X_test_cut)"
   ]
  },
  {
   "cell_type": "markdown",
   "metadata": {},
   "source": [
    "**Support Vector Machines**"
   ]
  },
  {
   "cell_type": "code",
   "execution_count": 78,
   "metadata": {},
   "outputs": [],
   "source": [
    "param_grid_svc = {'kernel':['rbf'],\n",
    "               'gamma':uniform(0.0,0.5),\n",
    "               'C':uniform(0.25,10.0-0.25)}\n",
    "#               ,\n",
    "#               {'kernel':['poly'],\n",
    "#                'degree':randint(1,7),\n",
    "#                'C':uniform(0.25,10.0-0.25)}\n",
    "#               ,\n",
    "#               {'kernel':['sigmoid'],\n",
    "#                'C':uniform(0.25,10.0-0.25)}]"
   ]
  },
  {
   "cell_type": "code",
   "execution_count": 79,
   "metadata": {},
   "outputs": [],
   "source": [
    "grid_svc = RandomizedSearchCV(\n",
    "                        n_iter=30, \n",
    "                        estimator=svc, \n",
    "                        cv=StratifiedKFold(10, shuffle=True), \n",
    "                        param_distributions=param_grid_svc,\n",
    "                        scoring='balanced_accuracy',\n",
    "                        n_jobs=-1\n",
    "                        )"
   ]
  },
  {
   "cell_type": "code",
   "execution_count": 80,
   "metadata": {
    "scrolled": true
   },
   "outputs": [
    {
     "data": {
      "text/plain": [
       "RandomizedSearchCV(cv=StratifiedKFold(n_splits=10, random_state=None, shuffle=True),\n",
       "          error_score='raise-deprecating',\n",
       "          estimator=SVC(C=1.0, cache_size=200, class_weight='balanced', coef0=0.0,\n",
       "  decision_function_shape='ovr', degree=3, gamma='auto', kernel='rbf',\n",
       "  max_iter=-1, probability=True, random_state=42, shrinking=True,\n",
       "  tol=0.001, verbose=False),\n",
       "          fit_params=None, iid='warn', n_iter=30, n_jobs=-1,\n",
       "          param_distributions={'kernel': ['rbf'], 'gamma': <scipy.stats._distn_infrastructure.rv_frozen object at 0x000002298FD6C278>, 'C': <scipy.stats._distn_infrastructure.rv_frozen object at 0x000002298FD12128>},\n",
       "          pre_dispatch='2*n_jobs', random_state=None, refit=True,\n",
       "          return_train_score='warn', scoring='balanced_accuracy',\n",
       "          verbose=0)"
      ]
     },
     "execution_count": 80,
     "metadata": {},
     "output_type": "execute_result"
    }
   ],
   "source": [
    "grid_svc.fit(X_train_cut, y_train)"
   ]
  },
  {
   "cell_type": "code",
   "execution_count": 81,
   "metadata": {},
   "outputs": [
    {
     "data": {
      "text/plain": [
       "{'C': 0.8565850510783073, 'gamma': 0.015538021638726252, 'kernel': 'rbf'}"
      ]
     },
     "execution_count": 81,
     "metadata": {},
     "output_type": "execute_result"
    }
   ],
   "source": [
    "grid_svc.best_params_"
   ]
  },
  {
   "cell_type": "code",
   "execution_count": 83,
   "metadata": {},
   "outputs": [
    {
     "name": "stdout",
     "output_type": "stream",
     "text": [
      "              precision    recall  f1-score   support\n",
      "\n",
      "           0       0.88      0.97      0.92      1804\n",
      "           1       0.65      0.30      0.41       331\n",
      "\n",
      "   micro avg       0.87      0.87      0.87      2135\n",
      "   macro avg       0.77      0.63      0.67      2135\n",
      "weighted avg       0.85      0.87      0.84      2135\n",
      "\n",
      "Accuracy: 0.8123226154122508\n"
     ]
    }
   ],
   "source": [
    "print(classification_report(grid_svc.predict(X_test_cut), y_test))\n",
    "print('Accuracy: %s' % grid_svc.best_score_)"
   ]
  },
  {
   "cell_type": "code",
   "execution_count": 84,
   "metadata": {},
   "outputs": [
    {
     "name": "stdout",
     "output_type": "stream",
     "text": [
      "f1=0.407 auc=0.442 ap=0.447\n"
     ]
    },
    {
     "data": {
      "image/png": "[encoded data removed]",
      "text/plain": [
       "<Figure size 360x360 with 1 Axes>"
      ]
     },
     "metadata": {},
     "output_type": "display_data"
    }
   ],
   "source": [
    "precission_recall_plot(grid_svc, X_test_cut)"
   ]
  },
  {
   "cell_type": "markdown",
   "metadata": {},
   "source": [
    "### Features engineering for Logistic Regression\n",
    "\n",
    "First feature engineering was carried out above using L1 regularization with the Logistic Regression"
   ]
  },
  {
   "cell_type": "code",
   "execution_count": 85,
   "metadata": {},
   "outputs": [],
   "source": [
    "data_adult_cut = data_adult.iloc[:,2:]"
   ]
  },
  {
   "cell_type": "markdown",
   "metadata": {},
   "source": [
    "#### Variance Threshold"
   ]
  },
  {
   "cell_type": "code",
   "execution_count": 86,
   "metadata": {},
   "outputs": [],
   "source": [
    "from sklearn.feature_selection import VarianceThreshold"
   ]
  },
  {
   "cell_type": "code",
   "execution_count": 87,
   "metadata": {},
   "outputs": [],
   "source": [
    "var = VarianceThreshold(threshold=0.1)\n",
    "var.fit(data_adult_cut)\n",
    "data_adult_var = var.transform(data_adult_cut)"
   ]
  },
  {
   "cell_type": "code",
   "execution_count": 88,
   "metadata": {},
   "outputs": [
    {
     "data": {
      "text/plain": [
       "((5255, 150), (5255, 77))"
      ]
     },
     "execution_count": 88,
     "metadata": {},
     "output_type": "execute_result"
    }
   ],
   "source": [
    "data_adult_cut.shape, data_adult_var.shape"
   ]
  },
  {
   "cell_type": "code",
   "execution_count": 89,
   "metadata": {},
   "outputs": [],
   "source": [
    "X_train_var = data_adult_var[:cutoff]\n",
    "X_test_var = data_adult_var[cutoff:]"
   ]
  },
  {
   "cell_type": "code",
   "execution_count": 90,
   "metadata": {},
   "outputs": [
    {
     "data": {
      "text/plain": [
       "((3120, 150), (3120, 77))"
      ]
     },
     "execution_count": 90,
     "metadata": {},
     "output_type": "execute_result"
    }
   ],
   "source": [
    "X_train_cut.shape, X_train_var.shape"
   ]
  },
  {
   "cell_type": "code",
   "execution_count": 91,
   "metadata": {},
   "outputs": [
    {
     "data": {
      "text/plain": [
       "RandomizedSearchCV(cv=StratifiedKFold(n_splits=10, random_state=None, shuffle=True),\n",
       "          error_score='raise-deprecating',\n",
       "          estimator=LogisticRegression(C=1.0, class_weight='balanced', dual=False,\n",
       "          fit_intercept=True, intercept_scaling=1, max_iter=100,\n",
       "          multi_class='warn', n_jobs=None, penalty='l2', random_state=42,\n",
       "          solver='liblinear', tol=0.0001, verbose=0, warm_start=False),\n",
       "          fit_params=None, iid='warn', n_iter=30, n_jobs=-1,\n",
       "          param_distributions={'penalty': ['l1', 'l2'], 'C': <scipy.stats._distn_infrastructure.rv_frozen object at 0x0000022991404F98>},\n",
       "          pre_dispatch='2*n_jobs', random_state=None, refit=True,\n",
       "          return_train_score='warn', scoring='balanced_accuracy',\n",
       "          verbose=0)"
      ]
     },
     "execution_count": 91,
     "metadata": {},
     "output_type": "execute_result"
    }
   ],
   "source": [
    "param_grid_vt = {'penalty':['l1','l2'],\n",
    "              'C':uniform(0.25,10.0-0.25)}\n",
    "\n",
    "grid_vt = RandomizedSearchCV(\n",
    "                        n_iter=30, \n",
    "                        estimator=lr, \n",
    "                        cv=StratifiedKFold(10, shuffle=True), \n",
    "                        param_distributions=param_grid_vt,\n",
    "                        scoring='balanced_accuracy',\n",
    "                        n_jobs=-1\n",
    "                        )\n",
    "\n",
    "grid_vt.fit(X_train_var, y_train)"
   ]
  },
  {
   "cell_type": "code",
   "execution_count": 92,
   "metadata": {},
   "outputs": [
    {
     "data": {
      "text/plain": [
       "{'C': 1.892010234031369, 'penalty': 'l1'}"
      ]
     },
     "execution_count": 92,
     "metadata": {},
     "output_type": "execute_result"
    }
   ],
   "source": [
    "grid_vt.best_params_"
   ]
  },
  {
   "cell_type": "code",
   "execution_count": 94,
   "metadata": {},
   "outputs": [
    {
     "name": "stdout",
     "output_type": "stream",
     "text": [
      "              precision    recall  f1-score   support\n",
      "\n",
      "           0       0.98      1.00      0.99      1945\n",
      "           1       0.99      0.78      0.88       190\n",
      "\n",
      "   micro avg       0.98      0.98      0.98      2135\n",
      "   macro avg       0.99      0.89      0.93      2135\n",
      "weighted avg       0.98      0.98      0.98      2135\n",
      "\n",
      "Accuracy: 0.988153403987785\n"
     ]
    }
   ],
   "source": [
    "print(classification_report(grid_vt.predict(X_test_var), y_test))\n",
    "print('Accuracy: %s' % grid_vt.best_score_)"
   ]
  },
  {
   "cell_type": "code",
   "execution_count": 95,
   "metadata": {},
   "outputs": [
    {
     "name": "stdout",
     "output_type": "stream",
     "text": [
      "f1=0.876 auc=0.982 ap=0.982\n"
     ]
    },
    {
     "data": {
      "image/png": "[encoded data removed]",
      "text/plain": [
       "<Figure size 360x360 with 1 Axes>"
      ]
     },
     "metadata": {},
     "output_type": "display_data"
    }
   ],
   "source": [
    "precission_recall_plot(grid_vt, X_test_var)"
   ]
  },
  {
   "cell_type": "markdown",
   "metadata": {},
   "source": [
    "#### Statistical tests"
   ]
  },
  {
   "cell_type": "code",
   "execution_count": 96,
   "metadata": {},
   "outputs": [],
   "source": [
    "#TBD: chi^2, ANOVA"
   ]
  },
  {
   "cell_type": "markdown",
   "metadata": {},
   "source": [
    "#### RFE"
   ]
  },
  {
   "cell_type": "code",
   "execution_count": 97,
   "metadata": {},
   "outputs": [],
   "source": [
    "from sklearn.feature_selection import RFE, RFECV"
   ]
  },
  {
   "cell_type": "code",
   "execution_count": 101,
   "metadata": {
    "scrolled": false
   },
   "outputs": [
    {
     "data": {
      "text/plain": [
       "RFE(estimator=LogisticRegression(C=2, class_weight='balanced', dual=False,\n",
       "          fit_intercept=True, intercept_scaling=1, max_iter=100,\n",
       "          multi_class='warn', n_jobs=None, penalty='l1', random_state=None,\n",
       "          solver='liblinear', tol=0.0001, verbose=0, warm_start=False),\n",
       "  n_features_to_select=None, step=1, verbose=0)"
      ]
     },
     "execution_count": 101,
     "metadata": {},
     "output_type": "execute_result"
    }
   ],
   "source": [
    "rfe_estimator = LogisticRegression(C=2, penalty='l1', class_weight='balanced', solver='liblinear')\n",
    "# Takes very long time to compute RFECV with StratifiedKfold\n",
    "# rfe_selector = RFECV(rfe_estimator, step=5, cv=StratifiedKFold(5, shuffle=True))\n",
    "rfe_selector = RFE(rfe_estimator, step=1)\n",
    "\n",
    "rfe_selector.fit(data_adult_cut, y)"
   ]
  },
  {
   "cell_type": "code",
   "execution_count": 102,
   "metadata": {},
   "outputs": [
    {
     "data": {
      "text/plain": [
       "Index(['nation_Ecuador', 'nation_Eritrea', 'nation_Estonia', 'nation_Finland',\n",
       "       'nation_France', 'nation_Germany', 'nation_Great Britain',\n",
       "       'nation_Ireland', 'nation_Italy', 'nation_Japan', 'nation_Norway',\n",
       "       'nation_Poland', 'nation_Russia', 'nation_USA',\n",
       "       'finish_Bukowina Tatrzanska', 'finish_Katowice', 'finish_Krakow',\n",
       "       'finish_Rzeszów', 'finish_Szczyrk', 'finish_Warsaw', 'finish_Warszawa',\n",
       "       'finish_Zabrze', 'finish_Zakopane', 'wind_dir_  N', 'wind_dir_ NW',\n",
       "       'wind_dir_ESE', 'wind_dir_SSW', 'wind_dir_WNW', 'wind_dir_WSW', 'age',\n",
       "       'year', 'stage', 'position', 'gc', 'mount_jerseys', 'point_jerseys',\n",
       "       'sprint_jerseys', 'youth_jerseys', 'followers', 'total_wins',\n",
       "       'n_stages', 'avg_pos_ovr', 'avg_time_ovr', 'worst_gc_ovr',\n",
       "       'avg_gc_time_ovr', 'n_top10_ovr', 'n_win_ovr', 'best_pos_ovr_l3',\n",
       "       'best_time_ovr_l3', 'best_gc_ovr_l3', 'best_gc_time_ovr_l3',\n",
       "       'avg_gc_time_ovr_l3', 'n_top10_l3', 'n_win_l3', 'perc_top10_ovr',\n",
       "       'perc_win_ovr', '2015_fc_rank', '2016_div', '2016_fc_rank', '2016_wins',\n",
       "       '2016_year_km', '2017_div', '2017_fc_rank', '2017_race_days',\n",
       "       '2017_wins', '2017_year_km', '2018_div', '2018_fc_rank', '2018_wins',\n",
       "       'stage_type_code', 'dist', 'temp', 'wind_speed', 'clouds_ovrl',\n",
       "       'visibility'],\n",
       "      dtype='object')"
      ]
     },
     "execution_count": 102,
     "metadata": {},
     "output_type": "execute_result"
    }
   ],
   "source": [
    "data_adult_cut.columns[rfe_selector.get_support()]"
   ]
  },
  {
   "cell_type": "code",
   "execution_count": 103,
   "metadata": {},
   "outputs": [],
   "source": [
    "support_columns = data_adult_cut.columns[rfe_selector.get_support()]\n",
    "data_adult_rfe = data_adult_cut[support_columns]"
   ]
  },
  {
   "cell_type": "code",
   "execution_count": 104,
   "metadata": {},
   "outputs": [],
   "source": [
    "X_train_rfe = data_adult_rfe.iloc[:cutoff,:]\n",
    "X_test_rfe = data_adult_rfe.iloc[cutoff:,:]"
   ]
  },
  {
   "cell_type": "code",
   "execution_count": 105,
   "metadata": {},
   "outputs": [
    {
     "data": {
      "text/plain": [
       "(3120, 75)"
      ]
     },
     "execution_count": 105,
     "metadata": {},
     "output_type": "execute_result"
    }
   ],
   "source": [
    "X_train_rfe.shape"
   ]
  },
  {
   "cell_type": "code",
   "execution_count": 106,
   "metadata": {},
   "outputs": [
    {
     "data": {
      "text/plain": [
       "RandomizedSearchCV(cv=StratifiedKFold(n_splits=10, random_state=None, shuffle=True),\n",
       "          error_score='raise-deprecating',\n",
       "          estimator=LogisticRegression(C=1.0, class_weight='balanced', dual=False,\n",
       "          fit_intercept=True, intercept_scaling=1, max_iter=100,\n",
       "          multi_class='warn', n_jobs=None, penalty='l2', random_state=42,\n",
       "          solver='liblinear', tol=0.0001, verbose=0, warm_start=False),\n",
       "          fit_params=None, iid='warn', n_iter=30, n_jobs=-1,\n",
       "          param_distributions={'penalty': ['l1', 'l2'], 'C': <scipy.stats._distn_infrastructure.rv_frozen object at 0x0000022993B7EEF0>},\n",
       "          pre_dispatch='2*n_jobs', random_state=None, refit=True,\n",
       "          return_train_score='warn', scoring='balanced_accuracy',\n",
       "          verbose=0)"
      ]
     },
     "execution_count": 106,
     "metadata": {},
     "output_type": "execute_result"
    }
   ],
   "source": [
    "param_grid_rfe = {'penalty':['l1','l2'],\n",
    "              'C':uniform(0.25,10.0-0.25)}\n",
    "\n",
    "grid_rfe = RandomizedSearchCV(\n",
    "                        n_iter=30, \n",
    "                        estimator=lr, \n",
    "                        cv=StratifiedKFold(10, shuffle=True), \n",
    "                        param_distributions=param_grid_rfe,\n",
    "                        scoring='balanced_accuracy',\n",
    "                        n_jobs=-1\n",
    "                        )\n",
    "\n",
    "grid_rfe.fit(X_train_rfe, y_train)"
   ]
  },
  {
   "cell_type": "code",
   "execution_count": 107,
   "metadata": {},
   "outputs": [
    {
     "data": {
      "text/plain": [
       "{'C': 4.807187350831515, 'penalty': 'l1'}"
      ]
     },
     "execution_count": 107,
     "metadata": {},
     "output_type": "execute_result"
    }
   ],
   "source": [
    "grid_rfe.best_params_"
   ]
  },
  {
   "cell_type": "code",
   "execution_count": 108,
   "metadata": {},
   "outputs": [
    {
     "name": "stdout",
     "output_type": "stream",
     "text": [
      "              precision    recall  f1-score   support\n",
      "\n",
      "           0       0.99      1.00      0.99      1962\n",
      "           1       0.99      0.86      0.92       173\n",
      "\n",
      "   micro avg       0.99      0.99      0.99      2135\n",
      "   macro avg       0.99      0.93      0.96      2135\n",
      "weighted avg       0.99      0.99      0.99      2135\n",
      "\n",
      "Accuracy: 0.9889347943236931\n"
     ]
    }
   ],
   "source": [
    "print(classification_report(grid_rfe.predict(X_test_rfe), y_test))\n",
    "print('Accuracy: %s' % grid_rfe.best_score_)"
   ]
  },
  {
   "cell_type": "code",
   "execution_count": 109,
   "metadata": {},
   "outputs": [
    {
     "name": "stdout",
     "output_type": "stream",
     "text": [
      "f1=0.923 auc=0.990 ap=0.990\n"
     ]
    },
    {
     "data": {
      "image/png": "[encoded data removed]",
      "text/plain": [
       "<Figure size 360x360 with 1 Axes>"
      ]
     },
     "metadata": {},
     "output_type": "display_data"
    }
   ],
   "source": [
    "precission_recall_plot(grid_rfe, X_test_rfe)"
   ]
  },
  {
   "cell_type": "code",
   "execution_count": null,
   "metadata": {},
   "outputs": [],
   "source": []
  },
  {
   "cell_type": "code",
   "execution_count": null,
   "metadata": {},
   "outputs": [],
   "source": []
  },
  {
   "cell_type": "code",
   "execution_count": null,
   "metadata": {},
   "outputs": [],
   "source": []
  }
 ],
 "metadata": {
  "hide_input": false,
  "kernelspec": {
   "display_name": "Python 3",
   "language": "python",
   "name": "python3"
  },
  "language_info": {
   "codemirror_mode": {
    "name": "ipython",
    "version": 3
   },
   "file_extension": ".py",
   "mimetype": "text/x-python",
   "name": "python",
   "nbconvert_exporter": "python",
   "pygments_lexer": "ipython3",
   "version": "3.6.6"
  },
  "notify_time": "10",
  "toc": {
   "base_numbering": 1,
   "nav_menu": {},
   "number_sections": true,
   "sideBar": true,
   "skip_h1_title": false,
   "title_cell": "Table of Contents",
   "title_sidebar": "Contents",
   "toc_cell": false,
   "toc_position": {
    "height": "calc(100% - 180px)",
    "left": "10px",
    "top": "150px",
    "width": "273.594px"
   },
   "toc_section_display": true,
   "toc_window_display": true
  }
 },
 "nbformat": 4,
 "nbformat_minor": 2
}
