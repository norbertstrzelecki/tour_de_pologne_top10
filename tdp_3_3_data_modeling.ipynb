{
 "cells": [
  {
   "cell_type": "markdown",
   "metadata": {},
   "source": [
    "# This part 3 of 3 is TBD very soon <a class='tocSkip'>"
   ]
  },
  {
   "cell_type": "markdown",
   "metadata": {},
   "source": [
    "**Previous notebooks:** <br>\n",
    "[Part 1: Data mining and munging](tdp_1_3_data_mining_and_cleaning.ipynb)<br>\n",
    "[Part 2: Data stats and visuals](tdp_2_3_data_statistics_visualization.ipynb)"
   ]
  },
  {
   "cell_type": "code",
   "execution_count": 1,
   "metadata": {},
   "outputs": [
    {
     "name": "stdout",
     "output_type": "stream",
     "text": [
      "Norbert Oksza Strzelecki \n",
      "\n",
      "CPython 3.6.6\n",
      "IPython 6.1.0\n",
      "\n",
      "numpy 1.15.1\n",
      "pandas 0.23.4\n",
      "matplotlib 2.2.3\n",
      "seaborn 0.8.1\n",
      "sklearn 0.20.0\n"
     ]
    }
   ],
   "source": [
    "# %load_ext watermark\n",
    "%reload_ext watermark\n",
    "%watermark -a \"Norbert Oksza Strzelecki\" -v -p numpy,pandas,matplotlib,seaborn,sklearn"
   ]
  },
  {
   "cell_type": "code",
   "execution_count": 2,
   "metadata": {},
   "outputs": [],
   "source": [
    "import numpy as np\n",
    "import pandas as pd\n",
    "import matplotlib.pyplot as plt\n",
    "from matplotlib import cm\n",
    "import seaborn as sns; sns.set()\n",
    "import time"
   ]
  },
  {
   "cell_type": "markdown",
   "metadata": {},
   "source": [
    "### Data loading <a class='tocSkip'>"
   ]
  },
  {
   "cell_type": "code",
   "execution_count": 3,
   "metadata": {},
   "outputs": [],
   "source": [
    "# Main data for modeling\n",
    "biker_class = pd.read_csv('processed/clean_biker_class.csv', index_col=0)\n",
    "\n",
    "# # Additional parts for statistics\n",
    "# biker_stats = pd.read_csv('preprocessed/pre_biker_stats.csv', index_col=0)\n",
    "# biker_by_stage = pd.read_csv('preprocessed/pre_biker_by_stage.csv', index_col=0)\n",
    "# stage_results = pd.read_csv('preprocessed/pre_stages.csv', index_col=False)\n",
    "# stage_class = pd.read_csv('preprocessed/pre_stages_summary.csv', index_col=False)"
   ]
  },
  {
   "cell_type": "code",
   "execution_count": 4,
   "metadata": {},
   "outputs": [],
   "source": [
    "# Fixing 'date' type column\n",
    "biker_class['date'] = pd.to_datetime(biker_class['date'])"
   ]
  },
  {
   "cell_type": "code",
   "execution_count": 5,
   "metadata": {
    "scrolled": true
   },
   "outputs": [],
   "source": [
    "# Sorting by 'date' column to avoid data leakage later during splitting to train/test batches\n",
    "biker_class.sort_values('date', ascending=True, inplace=True)\n",
    "biker_class.reset_index(drop=True, inplace=True)"
   ]
  },
  {
   "cell_type": "markdown",
   "metadata": {},
   "source": [
    "# Preparing data"
   ]
  },
  {
   "cell_type": "code",
   "execution_count": 6,
   "metadata": {},
   "outputs": [
    {
     "data": {
      "text/plain": [
       "0.9352997145575642"
      ]
     },
     "execution_count": 6,
     "metadata": {},
     "output_type": "execute_result"
    }
   ],
   "source": [
    "# Baseline prediction for 0s\n",
    "1 - biker_class.y_label.mean()"
   ]
  },
  {
   "cell_type": "code",
   "execution_count": 7,
   "metadata": {},
   "outputs": [],
   "source": [
    "# Poping out label column\n",
    "y = biker_class.pop('y_label')"
   ]
  },
  {
   "cell_type": "markdown",
   "metadata": {},
   "source": [
    "-------"
   ]
  },
  {
   "cell_type": "code",
   "execution_count": 8,
   "metadata": {},
   "outputs": [
    {
     "data": {
      "text/plain": [
       "Index(['name', 'nation', 'age', 'team', 'year', 'stage', 'position',\n",
       "       'time_in_s', 'gc', 'gc_time_in_s', 'mount_jerseys', 'point_jerseys',\n",
       "       'sprint_jerseys', 'youth_jerseys', 'followers', 'total_wins', 'n_tours',\n",
       "       'n_stages', 'avg_year', 'best_pos_ovr', 'avg_pos_ovr', 'worst_pos_ovr',\n",
       "       'best_time_ovr', 'avg_time_ovr', 'worst_time_ovr', 'best_gc_ovr',\n",
       "       'avg_gc_ovr', 'worst_gc_ovr', 'best_gc_time_ovr', 'avg_gc_time_ovr',\n",
       "       'worst_gc_time_ovr', 'n_top10_ovr', 'n_win_ovr', 'best_pos_ovr_l3',\n",
       "       'avg_pos_ovr_l3', 'worst_pos_ovr_l3', 'best_time_ovr_l3',\n",
       "       'avg_time_ovr_l3', 'worst_time_ovr_l3', 'best_gc_ovr_l3',\n",
       "       'avg_gc_ovr_l3', 'worst_gc_ovr_l3', 'best_gc_time_ovr_l3',\n",
       "       'avg_gc_time_ovr_l3', 'worst_gc_time_ovr_l3', 'n_top10_l3', 'n_win_l3',\n",
       "       'perc_top10_ovr', 'perc_win_ovr', '2015_div', '2015_fc_rank',\n",
       "       '2015_race_days', '2015_team', '2015_wins', '2015_year_km', '2016_div',\n",
       "       '2016_fc_rank', '2016_race_days', '2016_team', '2016_wins',\n",
       "       '2016_year_km', '2017_div', '2017_fc_rank', '2017_race_days',\n",
       "       '2017_team', '2017_wins', '2017_year_km', '2018_div', '2018_fc_rank',\n",
       "       '2018_race_days', '2018_team', '2018_wins', '2018_year_km', 'date',\n",
       "       'stage_type_code', 'dist', 'finish', 'temp', 'rel_humid', 'wind_dir',\n",
       "       'wind_speed', 'clouds_ovrl', 'visibility'],\n",
       "      dtype='object')"
      ]
     },
     "execution_count": 8,
     "metadata": {},
     "output_type": "execute_result"
    }
   ],
   "source": [
    "biker_class.columns"
   ]
  },
  {
   "cell_type": "code",
   "execution_count": 9,
   "metadata": {},
   "outputs": [
    {
     "name": "stdout",
     "output_type": "stream",
     "text": [
      "(5255, 83)\n"
     ]
    },
    {
     "data": {
      "text/html": [
       "<div>\n",
       "<style scoped>\n",
       "    .dataframe tbody tr th:only-of-type {\n",
       "        vertical-align: middle;\n",
       "    }\n",
       "\n",
       "    .dataframe tbody tr th {\n",
       "        vertical-align: top;\n",
       "    }\n",
       "\n",
       "    .dataframe thead th {\n",
       "        text-align: right;\n",
       "    }\n",
       "</style>\n",
       "<table border=\"1\" class=\"dataframe\">\n",
       "  <thead>\n",
       "    <tr style=\"text-align: right;\">\n",
       "      <th></th>\n",
       "      <th>name</th>\n",
       "      <th>nation</th>\n",
       "      <th>age</th>\n",
       "      <th>team</th>\n",
       "      <th>year</th>\n",
       "      <th>stage</th>\n",
       "      <th>position</th>\n",
       "      <th>time_in_s</th>\n",
       "      <th>gc</th>\n",
       "      <th>gc_time_in_s</th>\n",
       "      <th>...</th>\n",
       "      <th>date</th>\n",
       "      <th>stage_type_code</th>\n",
       "      <th>dist</th>\n",
       "      <th>finish</th>\n",
       "      <th>temp</th>\n",
       "      <th>rel_humid</th>\n",
       "      <th>wind_dir</th>\n",
       "      <th>wind_speed</th>\n",
       "      <th>clouds_ovrl</th>\n",
       "      <th>visibility</th>\n",
       "    </tr>\n",
       "  </thead>\n",
       "  <tbody>\n",
       "    <tr>\n",
       "      <th>0</th>\n",
       "      <td>Y.Hutarovich</td>\n",
       "      <td>Belarus</td>\n",
       "      <td>31</td>\n",
       "      <td>AG2R La Mondiale</td>\n",
       "      <td>2014</td>\n",
       "      <td>1</td>\n",
       "      <td>1</td>\n",
       "      <td>20870.0</td>\n",
       "      <td>1</td>\n",
       "      <td>20860.0</td>\n",
       "      <td>...</td>\n",
       "      <td>2014-08-03</td>\n",
       "      <td>1</td>\n",
       "      <td>226.0</td>\n",
       "      <td>Bygdoszcz</td>\n",
       "      <td>31.5</td>\n",
       "      <td>38</td>\n",
       "      <td>ESE</td>\n",
       "      <td>2</td>\n",
       "      <td>6</td>\n",
       "      <td>9</td>\n",
       "    </tr>\n",
       "    <tr>\n",
       "      <th>1</th>\n",
       "      <td>T.De Gendt</td>\n",
       "      <td>Belgium</td>\n",
       "      <td>28</td>\n",
       "      <td>Omega Pharma-Quick Step</td>\n",
       "      <td>2014</td>\n",
       "      <td>1</td>\n",
       "      <td>108</td>\n",
       "      <td>20992.0</td>\n",
       "      <td>109</td>\n",
       "      <td>20992.0</td>\n",
       "      <td>...</td>\n",
       "      <td>2014-08-03</td>\n",
       "      <td>1</td>\n",
       "      <td>226.0</td>\n",
       "      <td>Bygdoszcz</td>\n",
       "      <td>31.5</td>\n",
       "      <td>38</td>\n",
       "      <td>ESE</td>\n",
       "      <td>2</td>\n",
       "      <td>6</td>\n",
       "      <td>9</td>\n",
       "    </tr>\n",
       "    <tr>\n",
       "      <th>2</th>\n",
       "      <td>M.Belkov</td>\n",
       "      <td>Russia</td>\n",
       "      <td>29</td>\n",
       "      <td>Team Katusha</td>\n",
       "      <td>2014</td>\n",
       "      <td>1</td>\n",
       "      <td>109</td>\n",
       "      <td>21000.0</td>\n",
       "      <td>110</td>\n",
       "      <td>21000.0</td>\n",
       "      <td>...</td>\n",
       "      <td>2014-08-03</td>\n",
       "      <td>1</td>\n",
       "      <td>226.0</td>\n",
       "      <td>Bygdoszcz</td>\n",
       "      <td>31.5</td>\n",
       "      <td>38</td>\n",
       "      <td>ESE</td>\n",
       "      <td>2</td>\n",
       "      <td>6</td>\n",
       "      <td>9</td>\n",
       "    </tr>\n",
       "    <tr>\n",
       "      <th>3</th>\n",
       "      <td>B.Lancaster</td>\n",
       "      <td>Spain</td>\n",
       "      <td>35</td>\n",
       "      <td>Orica - GreenEDGE</td>\n",
       "      <td>2014</td>\n",
       "      <td>1</td>\n",
       "      <td>110</td>\n",
       "      <td>21022.0</td>\n",
       "      <td>111</td>\n",
       "      <td>21022.0</td>\n",
       "      <td>...</td>\n",
       "      <td>2014-08-03</td>\n",
       "      <td>1</td>\n",
       "      <td>226.0</td>\n",
       "      <td>Bygdoszcz</td>\n",
       "      <td>31.5</td>\n",
       "      <td>38</td>\n",
       "      <td>ESE</td>\n",
       "      <td>2</td>\n",
       "      <td>6</td>\n",
       "      <td>9</td>\n",
       "    </tr>\n",
       "    <tr>\n",
       "      <th>4</th>\n",
       "      <td>S.Bewley</td>\n",
       "      <td>New Zealand</td>\n",
       "      <td>27</td>\n",
       "      <td>Orica - GreenEDGE</td>\n",
       "      <td>2014</td>\n",
       "      <td>1</td>\n",
       "      <td>111</td>\n",
       "      <td>21022.0</td>\n",
       "      <td>112</td>\n",
       "      <td>21022.0</td>\n",
       "      <td>...</td>\n",
       "      <td>2014-08-03</td>\n",
       "      <td>1</td>\n",
       "      <td>226.0</td>\n",
       "      <td>Bygdoszcz</td>\n",
       "      <td>31.5</td>\n",
       "      <td>38</td>\n",
       "      <td>ESE</td>\n",
       "      <td>2</td>\n",
       "      <td>6</td>\n",
       "      <td>9</td>\n",
       "    </tr>\n",
       "  </tbody>\n",
       "</table>\n",
       "<p>5 rows × 83 columns</p>\n",
       "</div>"
      ],
      "text/plain": [
       "           name       nation  age                     team  year  stage  \\\n",
       "0  Y.Hutarovich      Belarus   31         AG2R La Mondiale  2014      1   \n",
       "1    T.De Gendt      Belgium   28  Omega Pharma-Quick Step  2014      1   \n",
       "2      M.Belkov       Russia   29             Team Katusha  2014      1   \n",
       "3   B.Lancaster        Spain   35        Orica - GreenEDGE  2014      1   \n",
       "4      S.Bewley  New Zealand   27        Orica - GreenEDGE  2014      1   \n",
       "\n",
       "   position  time_in_s   gc  gc_time_in_s     ...           date  \\\n",
       "0         1    20870.0    1       20860.0     ...     2014-08-03   \n",
       "1       108    20992.0  109       20992.0     ...     2014-08-03   \n",
       "2       109    21000.0  110       21000.0     ...     2014-08-03   \n",
       "3       110    21022.0  111       21022.0     ...     2014-08-03   \n",
       "4       111    21022.0  112       21022.0     ...     2014-08-03   \n",
       "\n",
       "   stage_type_code   dist     finish  temp  rel_humid  wind_dir  wind_speed  \\\n",
       "0                1  226.0  Bygdoszcz  31.5         38       ESE           2   \n",
       "1                1  226.0  Bygdoszcz  31.5         38       ESE           2   \n",
       "2                1  226.0  Bygdoszcz  31.5         38       ESE           2   \n",
       "3                1  226.0  Bygdoszcz  31.5         38       ESE           2   \n",
       "4                1  226.0  Bygdoszcz  31.5         38       ESE           2   \n",
       "\n",
       "   clouds_ovrl  visibility  \n",
       "0            6           9  \n",
       "1            6           9  \n",
       "2            6           9  \n",
       "3            6           9  \n",
       "4            6           9  \n",
       "\n",
       "[5 rows x 83 columns]"
      ]
     },
     "execution_count": 9,
     "metadata": {},
     "output_type": "execute_result"
    }
   ],
   "source": [
    "print(biker_class.shape)\n",
    "biker_class.head()"
   ]
  },
  {
   "cell_type": "markdown",
   "metadata": {},
   "source": [
    "## Remapping & Dropping"
   ]
  },
  {
   "cell_type": "code",
   "execution_count": 10,
   "metadata": {
    "scrolled": true
   },
   "outputs": [],
   "source": [
    "# Due to too many levels, trying with the '_team' data removed\n",
    "# Try: change team levels for only 5 top + 1 as a rest\n",
    "biker_class.drop('team', axis=1, inplace=True)\n",
    "biker_class.drop(biker_class.loc[:,'2015_team':'2018_team':6], axis=1, inplace=True)"
   ]
  },
  {
   "cell_type": "code",
   "execution_count": 11,
   "metadata": {
    "scrolled": true
   },
   "outputs": [
    {
     "data": {
      "text/html": [
       "<div>\n",
       "<style scoped>\n",
       "    .dataframe tbody tr th:only-of-type {\n",
       "        vertical-align: middle;\n",
       "    }\n",
       "\n",
       "    .dataframe tbody tr th {\n",
       "        vertical-align: top;\n",
       "    }\n",
       "\n",
       "    .dataframe thead th {\n",
       "        text-align: right;\n",
       "    }\n",
       "</style>\n",
       "<table border=\"1\" class=\"dataframe\">\n",
       "  <thead>\n",
       "    <tr style=\"text-align: right;\">\n",
       "      <th></th>\n",
       "      <th>2015_div</th>\n",
       "      <th>2016_div</th>\n",
       "      <th>2017_div</th>\n",
       "      <th>2018_div</th>\n",
       "    </tr>\n",
       "  </thead>\n",
       "  <tbody>\n",
       "    <tr>\n",
       "      <th>0</th>\n",
       "      <td>PROF</td>\n",
       "      <td>PROF</td>\n",
       "      <td>NONE</td>\n",
       "      <td>NONE</td>\n",
       "    </tr>\n",
       "    <tr>\n",
       "      <th>1</th>\n",
       "      <td>PRT</td>\n",
       "      <td>PRT</td>\n",
       "      <td>PRT</td>\n",
       "      <td>PRT</td>\n",
       "    </tr>\n",
       "    <tr>\n",
       "      <th>2</th>\n",
       "      <td>PRT</td>\n",
       "      <td>PRT</td>\n",
       "      <td>PRT</td>\n",
       "      <td>PRT</td>\n",
       "    </tr>\n",
       "    <tr>\n",
       "      <th>3</th>\n",
       "      <td>PRT</td>\n",
       "      <td>PRT</td>\n",
       "      <td>PRT</td>\n",
       "      <td>PROF</td>\n",
       "    </tr>\n",
       "    <tr>\n",
       "      <th>4</th>\n",
       "      <td>PRT</td>\n",
       "      <td>PRT</td>\n",
       "      <td>PRT</td>\n",
       "      <td>PRT</td>\n",
       "    </tr>\n",
       "  </tbody>\n",
       "</table>\n",
       "</div>"
      ],
      "text/plain": [
       "  2015_div 2016_div 2017_div 2018_div\n",
       "0     PROF     PROF     NONE     NONE\n",
       "1      PRT      PRT      PRT      PRT\n",
       "2      PRT      PRT      PRT      PRT\n",
       "3      PRT      PRT      PRT     PROF\n",
       "4      PRT      PRT      PRT      PRT"
      ]
     },
     "execution_count": 11,
     "metadata": {},
     "output_type": "execute_result"
    }
   ],
   "source": [
    "biker_class.loc[:,'2015_div':'2018_div':5].head()"
   ]
  },
  {
   "cell_type": "code",
   "execution_count": 12,
   "metadata": {},
   "outputs": [],
   "source": [
    "# Remapping '_div' team types with numbers as they show a true level of professionalism\n",
    "biker_class.loc[:,'2015_div':'2018_div':5] = biker_class.loc[:,'2015_div':'2018_div':5]\\\n",
    "                                                        .replace({'PRT':1, 'PROF':2, 'CONT':3, 'NONE':4})"
   ]
  },
  {
   "cell_type": "code",
   "execution_count": 13,
   "metadata": {},
   "outputs": [
    {
     "data": {
      "text/html": [
       "<div>\n",
       "<style scoped>\n",
       "    .dataframe tbody tr th:only-of-type {\n",
       "        vertical-align: middle;\n",
       "    }\n",
       "\n",
       "    .dataframe tbody tr th {\n",
       "        vertical-align: top;\n",
       "    }\n",
       "\n",
       "    .dataframe thead th {\n",
       "        text-align: right;\n",
       "    }\n",
       "</style>\n",
       "<table border=\"1\" class=\"dataframe\">\n",
       "  <thead>\n",
       "    <tr style=\"text-align: right;\">\n",
       "      <th></th>\n",
       "      <th>2015_div</th>\n",
       "      <th>2016_div</th>\n",
       "      <th>2017_div</th>\n",
       "      <th>2018_div</th>\n",
       "    </tr>\n",
       "  </thead>\n",
       "  <tbody>\n",
       "    <tr>\n",
       "      <th>0</th>\n",
       "      <td>2</td>\n",
       "      <td>2</td>\n",
       "      <td>4</td>\n",
       "      <td>4</td>\n",
       "    </tr>\n",
       "    <tr>\n",
       "      <th>1</th>\n",
       "      <td>1</td>\n",
       "      <td>1</td>\n",
       "      <td>1</td>\n",
       "      <td>1</td>\n",
       "    </tr>\n",
       "    <tr>\n",
       "      <th>2</th>\n",
       "      <td>1</td>\n",
       "      <td>1</td>\n",
       "      <td>1</td>\n",
       "      <td>1</td>\n",
       "    </tr>\n",
       "    <tr>\n",
       "      <th>3</th>\n",
       "      <td>1</td>\n",
       "      <td>1</td>\n",
       "      <td>1</td>\n",
       "      <td>2</td>\n",
       "    </tr>\n",
       "    <tr>\n",
       "      <th>4</th>\n",
       "      <td>1</td>\n",
       "      <td>1</td>\n",
       "      <td>1</td>\n",
       "      <td>1</td>\n",
       "    </tr>\n",
       "  </tbody>\n",
       "</table>\n",
       "</div>"
      ],
      "text/plain": [
       "   2015_div  2016_div  2017_div  2018_div\n",
       "0         2         2         4         4\n",
       "1         1         1         1         1\n",
       "2         1         1         1         1\n",
       "3         1         1         1         2\n",
       "4         1         1         1         1"
      ]
     },
     "execution_count": 13,
     "metadata": {},
     "output_type": "execute_result"
    }
   ],
   "source": [
    "biker_class.loc[:,'2015_div':'2018_div':5].head()"
   ]
  },
  {
   "cell_type": "markdown",
   "metadata": {},
   "source": [
    "## Information about features"
   ]
  },
  {
   "cell_type": "markdown",
   "metadata": {},
   "source": [
    "### Datetime feature (1)"
   ]
  },
  {
   "cell_type": "code",
   "execution_count": 14,
   "metadata": {},
   "outputs": [
    {
     "data": {
      "text/html": [
       "<div>\n",
       "<style scoped>\n",
       "    .dataframe tbody tr th:only-of-type {\n",
       "        vertical-align: middle;\n",
       "    }\n",
       "\n",
       "    .dataframe tbody tr th {\n",
       "        vertical-align: top;\n",
       "    }\n",
       "\n",
       "    .dataframe thead th {\n",
       "        text-align: right;\n",
       "    }\n",
       "</style>\n",
       "<table border=\"1\" class=\"dataframe\">\n",
       "  <thead>\n",
       "    <tr style=\"text-align: right;\">\n",
       "      <th></th>\n",
       "      <th>date</th>\n",
       "    </tr>\n",
       "  </thead>\n",
       "  <tbody>\n",
       "    <tr>\n",
       "      <th>0</th>\n",
       "      <td>2014-08-03</td>\n",
       "    </tr>\n",
       "    <tr>\n",
       "      <th>1</th>\n",
       "      <td>2014-08-03</td>\n",
       "    </tr>\n",
       "    <tr>\n",
       "      <th>2</th>\n",
       "      <td>2014-08-03</td>\n",
       "    </tr>\n",
       "    <tr>\n",
       "      <th>3</th>\n",
       "      <td>2014-08-03</td>\n",
       "    </tr>\n",
       "    <tr>\n",
       "      <th>4</th>\n",
       "      <td>2014-08-03</td>\n",
       "    </tr>\n",
       "  </tbody>\n",
       "</table>\n",
       "</div>"
      ],
      "text/plain": [
       "        date\n",
       "0 2014-08-03\n",
       "1 2014-08-03\n",
       "2 2014-08-03\n",
       "3 2014-08-03\n",
       "4 2014-08-03"
      ]
     },
     "execution_count": 14,
     "metadata": {},
     "output_type": "execute_result"
    }
   ],
   "source": [
    "biker_class.select_dtypes('datetime').head()"
   ]
  },
  {
   "cell_type": "markdown",
   "metadata": {},
   "source": [
    "### Categorical features (4)"
   ]
  },
  {
   "cell_type": "code",
   "execution_count": 15,
   "metadata": {},
   "outputs": [
    {
     "data": {
      "text/plain": [
       "Index(['name', 'nation', 'finish', 'wind_dir'], dtype='object')"
      ]
     },
     "execution_count": 15,
     "metadata": {},
     "output_type": "execute_result"
    }
   ],
   "source": [
    "biker_class.select_dtypes('object').columns"
   ]
  },
  {
   "cell_type": "code",
   "execution_count": 16,
   "metadata": {},
   "outputs": [
    {
     "name": "stdout",
     "output_type": "stream",
     "text": [
      "(5255, 4)\n"
     ]
    },
    {
     "data": {
      "text/html": [
       "<div>\n",
       "<style scoped>\n",
       "    .dataframe tbody tr th:only-of-type {\n",
       "        vertical-align: middle;\n",
       "    }\n",
       "\n",
       "    .dataframe tbody tr th {\n",
       "        vertical-align: top;\n",
       "    }\n",
       "\n",
       "    .dataframe thead th {\n",
       "        text-align: right;\n",
       "    }\n",
       "</style>\n",
       "<table border=\"1\" class=\"dataframe\">\n",
       "  <thead>\n",
       "    <tr style=\"text-align: right;\">\n",
       "      <th></th>\n",
       "      <th>name</th>\n",
       "      <th>nation</th>\n",
       "      <th>finish</th>\n",
       "      <th>wind_dir</th>\n",
       "    </tr>\n",
       "  </thead>\n",
       "  <tbody>\n",
       "    <tr>\n",
       "      <th>0</th>\n",
       "      <td>Y.Hutarovich</td>\n",
       "      <td>Belarus</td>\n",
       "      <td>Bygdoszcz</td>\n",
       "      <td>ESE</td>\n",
       "    </tr>\n",
       "    <tr>\n",
       "      <th>1</th>\n",
       "      <td>T.De Gendt</td>\n",
       "      <td>Belgium</td>\n",
       "      <td>Bygdoszcz</td>\n",
       "      <td>ESE</td>\n",
       "    </tr>\n",
       "    <tr>\n",
       "      <th>2</th>\n",
       "      <td>M.Belkov</td>\n",
       "      <td>Russia</td>\n",
       "      <td>Bygdoszcz</td>\n",
       "      <td>ESE</td>\n",
       "    </tr>\n",
       "  </tbody>\n",
       "</table>\n",
       "</div>"
      ],
      "text/plain": [
       "           name   nation     finish wind_dir\n",
       "0  Y.Hutarovich  Belarus  Bygdoszcz      ESE\n",
       "1    T.De Gendt  Belgium  Bygdoszcz      ESE\n",
       "2      M.Belkov   Russia  Bygdoszcz      ESE"
      ]
     },
     "execution_count": 16,
     "metadata": {},
     "output_type": "execute_result"
    }
   ],
   "source": [
    "print(biker_class.select_dtypes('object').shape)\n",
    "biker_class.select_dtypes('object').head(3)"
   ]
  },
  {
   "cell_type": "markdown",
   "metadata": {},
   "source": [
    "### Numeric features (73)"
   ]
  },
  {
   "cell_type": "code",
   "execution_count": 17,
   "metadata": {},
   "outputs": [
    {
     "data": {
      "text/plain": [
       "Index(['age', 'year', 'stage', 'position', 'time_in_s', 'gc', 'gc_time_in_s',\n",
       "       'mount_jerseys', 'point_jerseys', 'sprint_jerseys', 'youth_jerseys',\n",
       "       'followers', 'total_wins', 'n_tours', 'n_stages', 'avg_year',\n",
       "       'best_pos_ovr', 'avg_pos_ovr', 'worst_pos_ovr', 'best_time_ovr',\n",
       "       'avg_time_ovr', 'worst_time_ovr', 'best_gc_ovr', 'avg_gc_ovr',\n",
       "       'worst_gc_ovr', 'best_gc_time_ovr', 'avg_gc_time_ovr',\n",
       "       'worst_gc_time_ovr', 'n_top10_ovr', 'n_win_ovr', 'best_pos_ovr_l3',\n",
       "       'avg_pos_ovr_l3', 'worst_pos_ovr_l3', 'best_time_ovr_l3',\n",
       "       'avg_time_ovr_l3', 'worst_time_ovr_l3', 'best_gc_ovr_l3',\n",
       "       'avg_gc_ovr_l3', 'worst_gc_ovr_l3', 'best_gc_time_ovr_l3',\n",
       "       'avg_gc_time_ovr_l3', 'worst_gc_time_ovr_l3', 'n_top10_l3', 'n_win_l3',\n",
       "       'perc_top10_ovr', 'perc_win_ovr', '2015_div', '2015_fc_rank',\n",
       "       '2015_race_days', '2015_wins', '2015_year_km', '2016_div',\n",
       "       '2016_fc_rank', '2016_race_days', '2016_wins', '2016_year_km',\n",
       "       '2017_div', '2017_fc_rank', '2017_race_days', '2017_wins',\n",
       "       '2017_year_km', '2018_div', '2018_fc_rank', '2018_race_days',\n",
       "       '2018_wins', '2018_year_km', 'stage_type_code', 'dist', 'temp',\n",
       "       'rel_humid', 'wind_speed', 'clouds_ovrl', 'visibility'],\n",
       "      dtype='object')"
      ]
     },
     "execution_count": 17,
     "metadata": {},
     "output_type": "execute_result"
    }
   ],
   "source": [
    "biker_class.select_dtypes('number').columns"
   ]
  },
  {
   "cell_type": "code",
   "execution_count": 18,
   "metadata": {},
   "outputs": [
    {
     "name": "stdout",
     "output_type": "stream",
     "text": [
      "(5255, 73)\n"
     ]
    },
    {
     "data": {
      "text/html": [
       "<div>\n",
       "<style scoped>\n",
       "    .dataframe tbody tr th:only-of-type {\n",
       "        vertical-align: middle;\n",
       "    }\n",
       "\n",
       "    .dataframe tbody tr th {\n",
       "        vertical-align: top;\n",
       "    }\n",
       "\n",
       "    .dataframe thead th {\n",
       "        text-align: right;\n",
       "    }\n",
       "</style>\n",
       "<table border=\"1\" class=\"dataframe\">\n",
       "  <thead>\n",
       "    <tr style=\"text-align: right;\">\n",
       "      <th></th>\n",
       "      <th>age</th>\n",
       "      <th>year</th>\n",
       "      <th>stage</th>\n",
       "      <th>position</th>\n",
       "      <th>time_in_s</th>\n",
       "      <th>gc</th>\n",
       "      <th>gc_time_in_s</th>\n",
       "      <th>mount_jerseys</th>\n",
       "      <th>point_jerseys</th>\n",
       "      <th>sprint_jerseys</th>\n",
       "      <th>...</th>\n",
       "      <th>2018_race_days</th>\n",
       "      <th>2018_wins</th>\n",
       "      <th>2018_year_km</th>\n",
       "      <th>stage_type_code</th>\n",
       "      <th>dist</th>\n",
       "      <th>temp</th>\n",
       "      <th>rel_humid</th>\n",
       "      <th>wind_speed</th>\n",
       "      <th>clouds_ovrl</th>\n",
       "      <th>visibility</th>\n",
       "    </tr>\n",
       "  </thead>\n",
       "  <tbody>\n",
       "    <tr>\n",
       "      <th>0</th>\n",
       "      <td>31</td>\n",
       "      <td>2014</td>\n",
       "      <td>1</td>\n",
       "      <td>1</td>\n",
       "      <td>20870.0</td>\n",
       "      <td>1</td>\n",
       "      <td>20860.0</td>\n",
       "      <td>0</td>\n",
       "      <td>6</td>\n",
       "      <td>0</td>\n",
       "      <td>...</td>\n",
       "      <td>0.0</td>\n",
       "      <td>0.0</td>\n",
       "      <td>0.0</td>\n",
       "      <td>1</td>\n",
       "      <td>226.0</td>\n",
       "      <td>31.5</td>\n",
       "      <td>38</td>\n",
       "      <td>2</td>\n",
       "      <td>6</td>\n",
       "      <td>9</td>\n",
       "    </tr>\n",
       "    <tr>\n",
       "      <th>1</th>\n",
       "      <td>28</td>\n",
       "      <td>2014</td>\n",
       "      <td>1</td>\n",
       "      <td>108</td>\n",
       "      <td>20992.0</td>\n",
       "      <td>109</td>\n",
       "      <td>20992.0</td>\n",
       "      <td>11</td>\n",
       "      <td>1</td>\n",
       "      <td>4</td>\n",
       "      <td>...</td>\n",
       "      <td>82.0</td>\n",
       "      <td>2.0</td>\n",
       "      <td>12061.0</td>\n",
       "      <td>1</td>\n",
       "      <td>226.0</td>\n",
       "      <td>31.5</td>\n",
       "      <td>38</td>\n",
       "      <td>2</td>\n",
       "      <td>6</td>\n",
       "      <td>9</td>\n",
       "    </tr>\n",
       "    <tr>\n",
       "      <th>2</th>\n",
       "      <td>29</td>\n",
       "      <td>2014</td>\n",
       "      <td>1</td>\n",
       "      <td>109</td>\n",
       "      <td>21000.0</td>\n",
       "      <td>110</td>\n",
       "      <td>21000.0</td>\n",
       "      <td>2</td>\n",
       "      <td>0</td>\n",
       "      <td>2</td>\n",
       "      <td>...</td>\n",
       "      <td>48.0</td>\n",
       "      <td>0.0</td>\n",
       "      <td>7465.0</td>\n",
       "      <td>1</td>\n",
       "      <td>226.0</td>\n",
       "      <td>31.5</td>\n",
       "      <td>38</td>\n",
       "      <td>2</td>\n",
       "      <td>6</td>\n",
       "      <td>9</td>\n",
       "    </tr>\n",
       "    <tr>\n",
       "      <th>3</th>\n",
       "      <td>35</td>\n",
       "      <td>2014</td>\n",
       "      <td>1</td>\n",
       "      <td>110</td>\n",
       "      <td>21022.0</td>\n",
       "      <td>111</td>\n",
       "      <td>21022.0</td>\n",
       "      <td>0</td>\n",
       "      <td>1</td>\n",
       "      <td>0</td>\n",
       "      <td>...</td>\n",
       "      <td>37.0</td>\n",
       "      <td>1.0</td>\n",
       "      <td>5948.6</td>\n",
       "      <td>1</td>\n",
       "      <td>226.0</td>\n",
       "      <td>31.5</td>\n",
       "      <td>38</td>\n",
       "      <td>2</td>\n",
       "      <td>6</td>\n",
       "      <td>9</td>\n",
       "    </tr>\n",
       "    <tr>\n",
       "      <th>4</th>\n",
       "      <td>27</td>\n",
       "      <td>2014</td>\n",
       "      <td>1</td>\n",
       "      <td>111</td>\n",
       "      <td>21022.0</td>\n",
       "      <td>112</td>\n",
       "      <td>21022.0</td>\n",
       "      <td>0</td>\n",
       "      <td>0</td>\n",
       "      <td>0</td>\n",
       "      <td>...</td>\n",
       "      <td>42.0</td>\n",
       "      <td>0.0</td>\n",
       "      <td>6257.2</td>\n",
       "      <td>1</td>\n",
       "      <td>226.0</td>\n",
       "      <td>31.5</td>\n",
       "      <td>38</td>\n",
       "      <td>2</td>\n",
       "      <td>6</td>\n",
       "      <td>9</td>\n",
       "    </tr>\n",
       "  </tbody>\n",
       "</table>\n",
       "<p>5 rows × 73 columns</p>\n",
       "</div>"
      ],
      "text/plain": [
       "   age  year  stage  position  time_in_s   gc  gc_time_in_s  mount_jerseys  \\\n",
       "0   31  2014      1         1    20870.0    1       20860.0              0   \n",
       "1   28  2014      1       108    20992.0  109       20992.0             11   \n",
       "2   29  2014      1       109    21000.0  110       21000.0              2   \n",
       "3   35  2014      1       110    21022.0  111       21022.0              0   \n",
       "4   27  2014      1       111    21022.0  112       21022.0              0   \n",
       "\n",
       "   point_jerseys  sprint_jerseys     ...      2018_race_days  2018_wins  \\\n",
       "0              6               0     ...                 0.0        0.0   \n",
       "1              1               4     ...                82.0        2.0   \n",
       "2              0               2     ...                48.0        0.0   \n",
       "3              1               0     ...                37.0        1.0   \n",
       "4              0               0     ...                42.0        0.0   \n",
       "\n",
       "   2018_year_km  stage_type_code   dist  temp  rel_humid  wind_speed  \\\n",
       "0           0.0                1  226.0  31.5         38           2   \n",
       "1       12061.0                1  226.0  31.5         38           2   \n",
       "2        7465.0                1  226.0  31.5         38           2   \n",
       "3        5948.6                1  226.0  31.5         38           2   \n",
       "4        6257.2                1  226.0  31.5         38           2   \n",
       "\n",
       "   clouds_ovrl  visibility  \n",
       "0            6           9  \n",
       "1            6           9  \n",
       "2            6           9  \n",
       "3            6           9  \n",
       "4            6           9  \n",
       "\n",
       "[5 rows x 73 columns]"
      ]
     },
     "execution_count": 18,
     "metadata": {},
     "output_type": "execute_result"
    }
   ],
   "source": [
    "print(biker_class.select_dtypes('number').shape)\n",
    "biker_class.select_dtypes('number').head()"
   ]
  },
  {
   "cell_type": "markdown",
   "metadata": {},
   "source": [
    "## Transforming features into dummy categories & scaling values"
   ]
  },
  {
   "cell_type": "code",
   "execution_count": 19,
   "metadata": {},
   "outputs": [],
   "source": [
    "# from sklearn.preprocessing import MinMaxScaler\n",
    "# from sklearn.preprocessing import RobustScaler\n",
    "from sklearn.preprocessing import StandardScaler"
   ]
  },
  {
   "cell_type": "code",
   "execution_count": 20,
   "metadata": {},
   "outputs": [
    {
     "name": "stderr",
     "output_type": "stream",
     "text": [
      "C:\\Users\\cyberdeck\\Anaconda3\\lib\\site-packages\\sklearn\\preprocessing\\data.py:617: DataConversionWarning: Data with input dtype int64, float64 were all converted to float64 by StandardScaler.\n",
      "  return self.partial_fit(X, y)\n",
      "C:\\Users\\cyberdeck\\Anaconda3\\lib\\site-packages\\sklearn\\base.py:462: DataConversionWarning: Data with input dtype int64, float64 were all converted to float64 by StandardScaler.\n",
      "  return self.fit(X, **fit_params).transform(X)\n",
      "C:\\Users\\cyberdeck\\Anaconda3\\lib\\site-packages\\ipykernel_launcher.py:32: DataConversionWarning: Data with input dtype int64, float64 were all converted to float64 by StandardScaler.\n"
     ]
    }
   ],
   "source": [
    "'''\n",
    "To prevent data leakage observations need to be splitted depending on timepoint in the date column \n",
    "(not using random splitting in 'train_test_split'), because going down the dataframe it is 'sequencial' data,\n",
    "year by year, stage by stage\n",
    "'''\n",
    "\n",
    "# Based on 'date' column setting cutoff point to avoid data leakage \n",
    "cutoff = 3120\n",
    "\n",
    "# Selecting numerical and categorical features\n",
    "data_numerics = biker_class.select_dtypes(include = ['number'])\n",
    "# Skipping 'name' column\n",
    "data_categorical = biker_class.select_dtypes(exclude = ['number']).iloc[:,1:]\n",
    "\n",
    "# Converting categorical features into dummies\n",
    "categorical_dummies = pd.get_dummies(data_categorical)\n",
    "categorical_dummies_train = categorical_dummies.iloc[:cutoff,:]\n",
    "categorical_dummies_test = categorical_dummies.iloc[cutoff:,:]\n",
    "\n",
    "# Splitting numerics features into two separate dataframes\n",
    "data_numerics_train = data_numerics.iloc[:cutoff,:]\n",
    "data_numerics_test = data_numerics.iloc[cutoff:,:]\n",
    "\n",
    "# Setting scaler\n",
    "numeric_scaler = StandardScaler()\n",
    "\n",
    "# Scaling 'train' part\n",
    "numerics_scaled_train = numeric_scaler.fit_transform(data_numerics_train)\n",
    "numerics_scaled_train = pd.DataFrame(numerics_scaled_train, columns=data_numerics.columns, index=data_numerics_train.index)\n",
    "\n",
    "# Scaling 'test' part\n",
    "numerics_scaled_test = numeric_scaler.transform(data_numerics_test)\n",
    "numerics_scaled_test = pd.DataFrame(numerics_scaled_test, columns=data_numerics.columns, index=data_numerics_test.index)\n",
    "\n",
    "# Preparing final dataframes\n",
    "X_train = pd.concat([biker_class.name.iloc[:cutoff], categorical_dummies_train, numerics_scaled_train], axis=1)\n",
    "X_test = pd.concat([biker_class.name.iloc[cutoff:], categorical_dummies_test, numerics_scaled_test], axis=1)\n",
    "\n",
    "y_train = y[:cutoff]\n",
    "y_test = y[cutoff:] "
   ]
  },
  {
   "cell_type": "code",
   "execution_count": 21,
   "metadata": {},
   "outputs": [
    {
     "name": "stdout",
     "output_type": "stream",
     "text": [
      "(3120, 147) (2135, 147)\n",
      "(3120,) (2135,)\n"
     ]
    }
   ],
   "source": [
    "print(X_train.shape, X_test.shape)\n",
    "print(y_train.shape, y_test.shape)"
   ]
  },
  {
   "cell_type": "markdown",
   "metadata": {},
   "source": [
    "## Modeling"
   ]
  },
  {
   "cell_type": "code",
   "execution_count": 22,
   "metadata": {},
   "outputs": [],
   "source": [
    "import warnings\n",
    "from numpy import mean\n",
    "from numpy import std\n",
    "\n",
    "from scipy.stats.distributions import uniform, randint\n",
    "\n",
    "from sklearn.pipeline import Pipeline\n",
    "\n",
    "from sklearn.model_selection import cross_val_score, KFold, StratifiedKFold\n",
    "from sklearn.model_selection import RandomizedSearchCV, GridSearchCV\n",
    "\n",
    "from sklearn.linear_model import LogisticRegression\n",
    "from sklearn.linear_model import RidgeClassifier\n",
    "from sklearn.linear_model import SGDClassifier\n",
    "from sklearn.linear_model import PassiveAggressiveClassifier\n",
    "from sklearn.svm import SVC\n",
    "from sklearn.naive_bayes import GaussianNB\n",
    "from sklearn.ensemble import RandomForestClassifier\n",
    "\n",
    "from sklearn.metrics import balanced_accuracy_score, precision_score, recall_score, f1_score\n",
    "from sklearn.metrics import auc\n",
    "from sklearn.metrics import classification_report\n",
    "from sklearn.metrics import precision_recall_curve\n",
    "from sklearn.metrics import average_precision_score"
   ]
  },
  {
   "cell_type": "code",
   "execution_count": 23,
   "metadata": {},
   "outputs": [
    {
     "data": {
      "text/plain": [
       "0.9352997145575642"
      ]
     },
     "execution_count": 23,
     "metadata": {},
     "output_type": "execute_result"
    }
   ],
   "source": [
    "# Baseline prediction for 0s\n",
    "1 - y.mean()"
   ]
  },
  {
   "cell_type": "code",
   "execution_count": 24,
   "metadata": {},
   "outputs": [
    {
     "name": "stdout",
     "output_type": "stream",
     "text": [
      "Train batch ------------\n",
      "0    2925\n",
      "1     195\n",
      "Name: y_label, dtype: int64\n",
      "\n",
      "Test batch -------------\n",
      "0    1990\n",
      "1     145\n",
      "Name: y_label, dtype: int64\n"
     ]
    }
   ],
   "source": [
    "print('Train batch ------------')\n",
    "print(y_train.value_counts())\n",
    "print()\n",
    "print('Test batch -------------')\n",
    "print(y_test.value_counts())"
   ]
  },
  {
   "cell_type": "markdown",
   "metadata": {},
   "source": [
    "### Baseline"
   ]
  },
  {
   "cell_type": "code",
   "execution_count": 25,
   "metadata": {},
   "outputs": [],
   "source": [
    "# Helper functions to assess a range of interest in different algorithms\n",
    "\n",
    "# Create a dict of standard models to evaluate {name:object}\n",
    "def define_models(models=dict()):\n",
    "    # linear models\n",
    "    models['logreg   '] = LogisticRegression(class_weight='balanced')\n",
    "    alpha = [0.1, 0.2]\n",
    "    for a in alpha:\n",
    "        models['ridge_'+str(a)] = RidgeClassifier(alpha=a, class_weight='balanced')\n",
    "    models['sgd      '] = SGDClassifier(max_iter=1000, tol=1e-3, class_weight='balanced')\n",
    "    models['pas_agr  '] = PassiveAggressiveClassifier(max_iter=1000, tol=1e-3, class_weight='balanced')\n",
    "    models['svm_lin  '] = SVC(kernel='linear', class_weight='balanced')\n",
    "    models['svm_poly '] = SVC(kernel='poly', class_weight='balanced')\n",
    "    c_values = [0.8, 0.9, 1.0, 2.0, 3.0]\n",
    "    for c in c_values:\n",
    "        models['svm_r_'+str(c)] = SVC(C=c, class_weight='balanced')\n",
    "    models['bayes    '] = GaussianNB()\n",
    "    # ensemble model\n",
    "    models['rf       '] = RandomForestClassifier(n_estimators=100)\n",
    "    print('Defined %d models' % len(models))\n",
    "    return models\n",
    " \n",
    "# Create a feature preparation pipeline for a model\n",
    "def make_pipeline(model):\n",
    "    steps = []\n",
    "    # standardization\n",
    "#     steps.append(('standardize', StandardScaler()))\n",
    "    # normalization\n",
    "#     steps.append(('normalize', MinMaxScaler()))\n",
    "    # the model\n",
    "    steps.append(('model', model))\n",
    "    # create pipeline\n",
    "    pipeline = Pipeline(steps=steps)\n",
    "    return pipeline\n",
    " \n",
    "# Evaluate a single model\n",
    "def evaluate_model(X, y, model, folds, metric):\n",
    "    # create the pipeline\n",
    "    pipeline = make_pipeline(model)\n",
    "    # evaluate model\n",
    "    scores = cross_val_score(pipeline, X, y, scoring=metric, cv=folds, n_jobs=-1)\n",
    "    return scores\n",
    " \n",
    "# Evaluate a model and try to trap errors and and hide warnings\n",
    "def robust_evaluate_model(X, y, model, folds, metric):\n",
    "    scores = None\n",
    "    try:\n",
    "        with warnings.catch_warnings():\n",
    "            warnings.filterwarnings(\"ignore\")\n",
    "            scores = evaluate_model(X, y, model, folds, metric)\n",
    "    except:\n",
    "        scores = None\n",
    "    return scores\n",
    " \n",
    "# Evaluate a dict of models {name:object}, returns {name:score}\n",
    "def evaluate_models(X, y, models, folds=10, metric='balanced_accuracy'):\n",
    "    results = {}\n",
    "    for name, model in models.items():\n",
    "        # evaluate the model\n",
    "        scores = robust_evaluate_model(X, y, model, folds, metric)\n",
    "        # show process\n",
    "        if scores is not None:\n",
    "            # store a result\n",
    "            results[name] = scores\n",
    "            mean_score, std_score = mean(scores), std(scores)\n",
    "            print('> %s: %.3f (+/-%.3f)' % (name, mean_score, std_score))\n",
    "        else:\n",
    "            print('> %s: error' % name)\n",
    "    return results\n",
    " \n",
    "# Print and plot the top n results\n",
    "def summarize_results(results, maximize=True, top_n=15):\n",
    "    # check for no results\n",
    "    if len(results) == 0:\n",
    "        print('no results')\n",
    "        return\n",
    "    # determine how many results to summarize\n",
    "    n = min(top_n, len(results))\n",
    "    # create a list of (name, mean(scores)) tuples\n",
    "    mean_scores = [(k,mean(v)) for k,v in results.items()]\n",
    "    # sort tuples by mean score\n",
    "    mean_scores = sorted(mean_scores, key=lambda x: x[1])\n",
    "    # reverse for descending order (e.g. for accuracy)\n",
    "    if maximize:\n",
    "        mean_scores = list(reversed(mean_scores))\n",
    "    # retrieve the top n for summarization\n",
    "    names = [x[0] for x in mean_scores[:n]]\n",
    "    scores = [results[x[0]] for x in mean_scores[:n]]\n",
    "    # print the top n\n",
    "    print()\n",
    "    for i in range(n):\n",
    "        name = names[i]\n",
    "        mean_score, std_score = mean(results[name]), std(results[name])\n",
    "        print('Rank = %d, Name = %s, Score = %.3f (+/- %.3f)' % (i+1, name, mean_score, std_score))\n",
    "    # boxplot for the top n\n",
    "    plt.boxplot(scores, labels=names)\n",
    "    _, labels = plt.xticks()\n",
    "    plt.setp(labels, rotation=90)"
   ]
  },
  {
   "cell_type": "code",
   "execution_count": 26,
   "metadata": {},
   "outputs": [],
   "source": [
    "# Helper function plotting Precision-Recall Curve instead of a ROC Curve due to class imbalance\n",
    "\n",
    "def precission_recall_plot(classifier, X_test):\n",
    "    # predict probabilities\n",
    "    probas = classifier.predict_proba(X_test)\n",
    "    # keep probabilities for the positive outcome only\n",
    "    probas = probas[:, 1]\n",
    "    # predict class values\n",
    "    y_pred = classifier.predict(X_test)\n",
    "    # calculate precision-recall curve\n",
    "    precision, recall, thresholds = precision_recall_curve(y_test, probas)\n",
    "    # calculate F1 score\n",
    "    f1 = f1_score(y_test, y_pred)\n",
    "    # calculate precision-recall AUC\n",
    "    auc_score = auc(recall, precision)\n",
    "    # calculate average precision score\n",
    "    ap = average_precision_score(y_test, probas, average='weighted')\n",
    "    print('Scores: f1=%.3f auc=%.3f ap=%.3f' % (f1, auc_score, ap))\n",
    "    plt.figure(figsize=(5,5))\n",
    "    # plot no skill model\n",
    "    plt.plot([0, 1], [0.5, 0.5], linestyle='--', linewidth=1)\n",
    "    # plot the roc curve for the model\n",
    "    plt.plot(recall, precision, marker='.', markersize=4, color='orangered', linewidth=1)\n",
    "    # show the plot\n",
    "    plt.xlabel('Recall (Sensitivity)')\n",
    "    plt.ylabel('Precision')\n",
    "    plt.ylim([-0.01, 1.01])\n",
    "    plt.xlim([-0.01, 1.01])\n",
    "    plt.title('2-class Precision-Recall curve: AP={0:0.3f}'.format(ap))\n",
    "    plt.show()\n",
    "    \n",
    "def balanced_accuracy_value(classifier):\n",
    "    return balanced_accuracy_score(y_test, classifier.predict(X_test_cut))"
   ]
  },
  {
   "cell_type": "code",
   "execution_count": 27,
   "metadata": {},
   "outputs": [],
   "source": [
    "# Skipping 'name' and 'date' columns\n",
    "X_train_cut = X_train.iloc[:,2:]\n",
    "X_test_cut = X_test.iloc[:,2:]"
   ]
  },
  {
   "cell_type": "code",
   "execution_count": 28,
   "metadata": {
    "scrolled": true
   },
   "outputs": [
    {
     "name": "stdout",
     "output_type": "stream",
     "text": [
      "Defined 14 models\n",
      "> logreg   : 0.923 (+/-0.043)\n",
      "> ridge_0.1: 0.880 (+/-0.067)\n",
      "> ridge_0.2: 0.883 (+/-0.065)\n",
      "> sgd      : 0.838 (+/-0.088)\n",
      "> pas_agr  : 0.848 (+/-0.091)\n",
      "> svm_lin  : 0.905 (+/-0.071)\n",
      "> svm_poly : 0.717 (+/-0.070)\n",
      "> svm_r_0.8: 0.788 (+/-0.059)\n",
      "> svm_r_0.9: 0.790 (+/-0.059)\n",
      "> svm_r_1.0: 0.790 (+/-0.061)\n",
      "> svm_r_2.0: 0.788 (+/-0.076)\n",
      "> svm_r_3.0: 0.784 (+/-0.082)\n",
      "> bayes    : 0.788 (+/-0.096)\n",
      "> rf       : 0.972 (+/-0.048)\n"
     ]
    }
   ],
   "source": [
    "# Get model list\n",
    "models = define_models()\n",
    "\n",
    "# Evaluate models\n",
    "results = evaluate_models(X_train_cut, y_train, models)"
   ]
  },
  {
   "cell_type": "code",
   "execution_count": 29,
   "metadata": {},
   "outputs": [
    {
     "name": "stdout",
     "output_type": "stream",
     "text": [
      "\n",
      "Rank = 1, Name = rf       , Score = 0.972 (+/- 0.048)\n",
      "Rank = 2, Name = logreg   , Score = 0.923 (+/- 0.043)\n",
      "Rank = 3, Name = svm_lin  , Score = 0.905 (+/- 0.071)\n",
      "Rank = 4, Name = ridge_0.2, Score = 0.883 (+/- 0.065)\n",
      "Rank = 5, Name = ridge_0.1, Score = 0.880 (+/- 0.067)\n",
      "Rank = 6, Name = pas_agr  , Score = 0.848 (+/- 0.091)\n",
      "Rank = 7, Name = sgd      , Score = 0.838 (+/- 0.088)\n",
      "Rank = 8, Name = svm_r_0.9, Score = 0.790 (+/- 0.059)\n",
      "Rank = 9, Name = svm_r_1.0, Score = 0.790 (+/- 0.061)\n",
      "Rank = 10, Name = bayes    , Score = 0.788 (+/- 0.096)\n",
      "Rank = 11, Name = svm_r_2.0, Score = 0.788 (+/- 0.076)\n",
      "Rank = 12, Name = svm_r_0.8, Score = 0.788 (+/- 0.059)\n",
      "Rank = 13, Name = svm_r_3.0, Score = 0.784 (+/- 0.082)\n",
      "Rank = 14, Name = svm_poly , Score = 0.717 (+/- 0.070)\n"
     ]
    },
    {
     "data": {
      "image/png": "[encoded data removed]",
      "text/plain": [
       "<Figure size 432x288 with 1 Axes>"
      ]
     },
     "metadata": {},
     "output_type": "display_data"
    }
   ],
   "source": [
    "# Summarize results\n",
    "summarize_results(results)"
   ]
  },
  {
   "cell_type": "markdown",
   "metadata": {},
   "source": [
    "**Random Forrest**"
   ]
  },
  {
   "cell_type": "code",
   "execution_count": 30,
   "metadata": {},
   "outputs": [
    {
     "data": {
      "text/plain": [
       "RandomForestClassifier(bootstrap=True, class_weight='balanced_subsample',\n",
       "            criterion='gini', max_depth=200, max_features='auto',\n",
       "            max_leaf_nodes=None, min_impurity_decrease=0.0,\n",
       "            min_impurity_split=None, min_samples_leaf=20,\n",
       "            min_samples_split=2, min_weight_fraction_leaf=0.0,\n",
       "            n_estimators=200, n_jobs=-1, oob_score=False, random_state=42,\n",
       "            verbose=0, warm_start=False)"
      ]
     },
     "execution_count": 30,
     "metadata": {},
     "output_type": "execute_result"
    }
   ],
   "source": [
    "base_rf = RandomForestClassifier(n_estimators=200, class_weight='balanced_subsample', random_state=42,\n",
    "                                 max_depth=200, min_samples_leaf=20, n_jobs=-1)\n",
    "base_rf.fit(X_train_cut, y_train)"
   ]
  },
  {
   "cell_type": "code",
   "execution_count": 31,
   "metadata": {},
   "outputs": [
    {
     "name": "stdout",
     "output_type": "stream",
     "text": [
      "Accuracy: 0.9900190608213482\n",
      "\n",
      "              precision    recall  f1-score   support\n",
      "\n",
      "           0       1.00      0.99      0.99      1990\n",
      "           1       0.85      0.99      0.91       145\n",
      "\n",
      "   micro avg       0.99      0.99      0.99      2135\n",
      "   macro avg       0.92      0.99      0.95      2135\n",
      "weighted avg       0.99      0.99      0.99      2135\n",
      "\n",
      "Scores: f1=0.914 auc=0.996 ap=0.996\n"
     ]
    },
    {
     "data": {
      "image/png": "[encoded data removed]",
      "text/plain": [
       "<Figure size 360x360 with 1 Axes>"
      ]
     },
     "metadata": {},
     "output_type": "display_data"
    }
   ],
   "source": [
    "print('Accuracy: %s' % balanced_accuracy_value(base_rf))\n",
    "print()\n",
    "print(classification_report(y_test, base_rf.predict(X_test_cut)))\n",
    "precission_recall_plot(base_rf, X_test_cut)"
   ]
  },
  {
   "cell_type": "markdown",
   "metadata": {},
   "source": [
    "**Logistic Regression**"
   ]
  },
  {
   "cell_type": "code",
   "execution_count": 32,
   "metadata": {},
   "outputs": [
    {
     "data": {
      "text/plain": [
       "LogisticRegression(C=1.0, class_weight=None, dual=False, fit_intercept=True,\n",
       "          intercept_scaling=1, max_iter=100, multi_class='warn',\n",
       "          n_jobs=None, penalty='l2', random_state=42, solver='liblinear',\n",
       "          tol=0.0001, verbose=0, warm_start=False)"
      ]
     },
     "execution_count": 32,
     "metadata": {},
     "output_type": "execute_result"
    }
   ],
   "source": [
    "base_lr = LogisticRegression(solver='liblinear', random_state=42)\n",
    "base_lr.fit(X_train_cut, y_train)"
   ]
  },
  {
   "cell_type": "code",
   "execution_count": 33,
   "metadata": {},
   "outputs": [
    {
     "name": "stdout",
     "output_type": "stream",
     "text": [
      "Accuracy: 0.7794229769537342\n",
      "\n",
      "              precision    recall  f1-score   support\n",
      "\n",
      "           0       0.97      0.99      0.98      1990\n",
      "           1       0.75      0.57      0.65       145\n",
      "\n",
      "   micro avg       0.96      0.96      0.96      2135\n",
      "   macro avg       0.86      0.78      0.81      2135\n",
      "weighted avg       0.95      0.96      0.96      2135\n",
      "\n",
      "Scores: f1=0.651 auc=0.751 ap=0.752\n"
     ]
    },
    {
     "data": {
      "image/png": "[encoded data removed]",
      "text/plain": [
       "<Figure size 360x360 with 1 Axes>"
      ]
     },
     "metadata": {},
     "output_type": "display_data"
    }
   ],
   "source": [
    "print('Accuracy: %s' % balanced_accuracy_value(base_lr))\n",
    "print()\n",
    "print(classification_report(y_test, base_lr.predict(X_test_cut)))\n",
    "precission_recall_plot(base_lr, X_test_cut)"
   ]
  },
  {
   "cell_type": "markdown",
   "metadata": {},
   "source": [
    "**Support Vector Machines**"
   ]
  },
  {
   "cell_type": "code",
   "execution_count": 34,
   "metadata": {},
   "outputs": [
    {
     "data": {
      "text/plain": [
       "SVC(C=1.0, cache_size=200, class_weight=None, coef0=0.0,\n",
       "  decision_function_shape='ovr', degree=3, gamma='auto', kernel='linear',\n",
       "  max_iter=-1, probability=True, random_state=None, shrinking=True,\n",
       "  tol=0.001, verbose=False)"
      ]
     },
     "execution_count": 34,
     "metadata": {},
     "output_type": "execute_result"
    }
   ],
   "source": [
    "base_svc = SVC(probability=True, gamma='auto', kernel='linear')\n",
    "base_svc.fit(X_train_cut, y_train)"
   ]
  },
  {
   "cell_type": "code",
   "execution_count": 35,
   "metadata": {},
   "outputs": [
    {
     "name": "stdout",
     "output_type": "stream",
     "text": [
      "Accuracy: 0.8517674579795529\n",
      "\n",
      "              precision    recall  f1-score   support\n",
      "\n",
      "           0       0.98      0.98      0.98      1990\n",
      "           1       0.72      0.72      0.72       145\n",
      "\n",
      "   micro avg       0.96      0.96      0.96      2135\n",
      "   macro avg       0.85      0.85      0.85      2135\n",
      "weighted avg       0.96      0.96      0.96      2135\n",
      "\n",
      "Scores: f1=0.722 auc=0.803 ap=0.804\n"
     ]
    },
    {
     "data": {
      "image/png": "[encoded data removed]",
      "text/plain": [
       "<Figure size 360x360 with 1 Axes>"
      ]
     },
     "metadata": {},
     "output_type": "display_data"
    }
   ],
   "source": [
    "print('Accuracy: %s' % balanced_accuracy_value(base_svc))\n",
    "print()\n",
    "print(classification_report(y_test, base_svc.predict(X_test_cut)))\n",
    "precission_recall_plot(base_svc, X_test_cut)"
   ]
  },
  {
   "cell_type": "markdown",
   "metadata": {},
   "source": [
    "### Cross-validation with StratifiedKFold"
   ]
  },
  {
   "cell_type": "markdown",
   "metadata": {},
   "source": [
    "**Logistic Regression**"
   ]
  },
  {
   "cell_type": "code",
   "execution_count": 36,
   "metadata": {
    "scrolled": true
   },
   "outputs": [
    {
     "data": {
      "text/plain": [
       "LogisticRegression(C=1.0, class_weight='balanced', dual=False,\n",
       "          fit_intercept=True, intercept_scaling=1, max_iter=100,\n",
       "          multi_class='warn', n_jobs=None, penalty='l2', random_state=42,\n",
       "          solver='liblinear', tol=0.0001, verbose=0, warm_start=False)"
      ]
     },
     "execution_count": 36,
     "metadata": {},
     "output_type": "execute_result"
    }
   ],
   "source": [
    "lr = LogisticRegression(class_weight='balanced', random_state=42, solver='liblinear')\n",
    "scores_lr = cross_val_score(X=X_train_cut,\n",
    "                            y=y_train,\n",
    "                            estimator=lr,\n",
    "                            cv=StratifiedKFold(10, shuffle=True),\n",
    "                            scoring='balanced_accuracy',\n",
    "                            n_jobs=-1)\n",
    "lr.fit(X_train_cut, y_train)"
   ]
  },
  {
   "cell_type": "code",
   "execution_count": 37,
   "metadata": {},
   "outputs": [
    {
     "name": "stdout",
     "output_type": "stream",
     "text": [
      "Accuracy: 0.9354503544615899\n",
      "\n",
      "              precision    recall  f1-score   support\n",
      "\n",
      "           0       0.92      1.00      0.96      1849\n",
      "           1       0.94      0.48      0.63       286\n",
      "\n",
      "   micro avg       0.93      0.93      0.93      2135\n",
      "   macro avg       0.93      0.74      0.79      2135\n",
      "weighted avg       0.93      0.93      0.91      2135\n",
      "\n",
      "Scores: f1=0.631 auc=0.783 ap=0.784\n"
     ]
    },
    {
     "data": {
      "image/png": "[encoded data removed]",
      "text/plain": [
       "<Figure size 360x360 with 1 Axes>"
      ]
     },
     "metadata": {},
     "output_type": "display_data"
    }
   ],
   "source": [
    "print('Accuracy: %s' % scores_lr.mean())\n",
    "print()\n",
    "print(classification_report(lr.predict(X_test_cut), y_test))\n",
    "precission_recall_plot(lr, X_test_cut)"
   ]
  },
  {
   "cell_type": "markdown",
   "metadata": {},
   "source": [
    "**Support Vector Machines**"
   ]
  },
  {
   "cell_type": "code",
   "execution_count": 38,
   "metadata": {},
   "outputs": [
    {
     "data": {
      "text/plain": [
       "SVC(C=1.0, cache_size=200, class_weight='balanced', coef0=0.0,\n",
       "  decision_function_shape='ovr', degree=3, gamma='auto', kernel='linear',\n",
       "  max_iter=-1, probability=True, random_state=42, shrinking=True,\n",
       "  tol=0.001, verbose=False)"
      ]
     },
     "execution_count": 38,
     "metadata": {},
     "output_type": "execute_result"
    }
   ],
   "source": [
    "svc = SVC(class_weight='balanced', probability=True, random_state=42, gamma='auto', kernel='linear')\n",
    "scores_svc = cross_val_score(X=X_train_cut,\n",
    "                             y=y_train,\n",
    "                             estimator=svc,\n",
    "                             cv=StratifiedKFold(10, shuffle=True),\n",
    "                             scoring='balanced_accuracy',\n",
    "                             n_jobs=-1)\n",
    "svc.fit(X_train_cut, y_train)"
   ]
  },
  {
   "cell_type": "code",
   "execution_count": 39,
   "metadata": {},
   "outputs": [
    {
     "name": "stdout",
     "output_type": "stream",
     "text": [
      "Accuracy: 0.9397478905782854\n",
      "\n",
      "              precision    recall  f1-score   support\n",
      "\n",
      "           0       0.96      0.99      0.98      1925\n",
      "           1       0.92      0.64      0.75       210\n",
      "\n",
      "   micro avg       0.96      0.96      0.96      2135\n",
      "   macro avg       0.94      0.82      0.87      2135\n",
      "weighted avg       0.96      0.96      0.96      2135\n",
      "\n",
      "Scores: f1=0.755 auc=0.853 ap=0.854\n"
     ]
    },
    {
     "data": {
      "image/png": "[encoded data removed]",
      "text/plain": [
       "<Figure size 360x360 with 1 Axes>"
      ]
     },
     "metadata": {},
     "output_type": "display_data"
    }
   ],
   "source": [
    "print('Accuracy: %s' % scores_svc.mean())\n",
    "print()\n",
    "print(classification_report(svc.predict(X_test_cut), y_test))\n",
    "precission_recall_plot(svc, X_test_cut)"
   ]
  },
  {
   "cell_type": "markdown",
   "metadata": {},
   "source": [
    "### Parameter estimation using grid search with RandomizedSearchCV"
   ]
  },
  {
   "cell_type": "markdown",
   "metadata": {},
   "source": [
    "**Logistic Regression**"
   ]
  },
  {
   "cell_type": "code",
   "execution_count": 40,
   "metadata": {},
   "outputs": [
    {
     "name": "stdout",
     "output_type": "stream",
     "text": [
      "RandomizedSearchCV(cv=StratifiedKFold(n_splits=10, random_state=None, shuffle=True),\n",
      "          error_score='raise-deprecating',\n",
      "          estimator=LogisticRegression(C=1.0, class_weight='balanced', dual=False,\n",
      "          fit_intercept=True, intercept_scaling=1, max_iter=100,\n",
      "          multi_class='warn', n_jobs=None, penalty='l2', random_state=42,\n",
      "          solver='liblinear', tol=0.0001, verbose=0, warm_start=False),\n",
      "          fit_params=None, iid='warn', n_iter=40, n_jobs=-1,\n",
      "          param_distributions={'penalty': ['l1', 'l2'], 'C': <scipy.stats._distn_infrastructure.rv_frozen object at 0x0000020AFA89C978>},\n",
      "          pre_dispatch='2*n_jobs', random_state=None, refit=True,\n",
      "          return_train_score='warn', scoring='balanced_accuracy',\n",
      "          verbose=0)\n",
      "--------------------------------------------------\n",
      "Computed in: 8.196371297215196 minutes\n"
     ]
    }
   ],
   "source": [
    "start_time = time.clock()\n",
    "param_grid_lr = {'penalty':['l1','l2'],\n",
    "                 'C':uniform(0.25,10.0-0.25)}\n",
    "\n",
    "grid_lr = RandomizedSearchCV(n_iter=40, \n",
    "                             estimator=lr, \n",
    "                             cv=StratifiedKFold(10, shuffle=True), \n",
    "                             param_distributions=param_grid_lr,\n",
    "                             scoring='balanced_accuracy',\n",
    "                             n_jobs=-1)\n",
    "\n",
    "print(grid_lr.fit(X_train_cut, y_train))\n",
    "\n",
    "print('-'*50)\n",
    "print('Computed in: {} minutes'.format((time.clock()-start_time)/60))"
   ]
  },
  {
   "cell_type": "code",
   "execution_count": 41,
   "metadata": {},
   "outputs": [
    {
     "data": {
      "text/plain": [
       "{'C': 2.2431262456335923, 'penalty': 'l1'}"
      ]
     },
     "execution_count": 41,
     "metadata": {},
     "output_type": "execute_result"
    }
   ],
   "source": [
    "grid_lr.best_params_"
   ]
  },
  {
   "cell_type": "code",
   "execution_count": 42,
   "metadata": {},
   "outputs": [
    {
     "name": "stdout",
     "output_type": "stream",
     "text": [
      "Accuracy: 0.9924745608214623\n",
      "\n",
      "              precision    recall  f1-score   support\n",
      "\n",
      "           0       0.98      1.00      0.99      1951\n",
      "           1       0.99      0.78      0.87       184\n",
      "\n",
      "   micro avg       0.98      0.98      0.98      2135\n",
      "   macro avg       0.98      0.89      0.93      2135\n",
      "weighted avg       0.98      0.98      0.98      2135\n",
      "\n",
      "Scores: f1=0.869 auc=0.976 ap=0.977\n"
     ]
    },
    {
     "data": {
      "image/png": "[encoded data removed]",
      "text/plain": [
       "<Figure size 360x360 with 1 Axes>"
      ]
     },
     "metadata": {},
     "output_type": "display_data"
    }
   ],
   "source": [
    "print('Accuracy: %s' % grid_lr.best_score_)\n",
    "print()\n",
    "print(classification_report(grid_lr.predict(X_test_cut), y_test))\n",
    "precission_recall_plot(grid_lr, X_test_cut)"
   ]
  },
  {
   "cell_type": "markdown",
   "metadata": {},
   "source": [
    "**Support Vector Machines**"
   ]
  },
  {
   "cell_type": "code",
   "execution_count": 43,
   "metadata": {},
   "outputs": [
    {
     "name": "stdout",
     "output_type": "stream",
     "text": [
      "RandomizedSearchCV(cv=StratifiedKFold(n_splits=10, random_state=None, shuffle=True),\n",
      "          error_score='raise-deprecating',\n",
      "          estimator=SVC(C=1.0, cache_size=200, class_weight='balanced', coef0=0.0,\n",
      "  decision_function_shape='ovr', degree=3, gamma='auto', kernel='linear',\n",
      "  max_iter=-1, probability=True, random_state=42, shrinking=True,\n",
      "  tol=0.001, verbose=False),\n",
      "          fit_params=None, iid='warn', n_iter=30, n_jobs=-1,\n",
      "          param_distributions={'kernel': ['linear'], 'gamma': <scipy.stats._distn_infrastructure.rv_frozen object at 0x0000020AFA8D44A8>, 'C': <scipy.stats._distn_infrastructure.rv_frozen object at 0x0000020AFA8D42E8>},\n",
      "          pre_dispatch='2*n_jobs', random_state=None, refit=True,\n",
      "          return_train_score='warn', scoring='balanced_accuracy',\n",
      "          verbose=0)\n",
      "--------------------------------------------------\n",
      "Computed in: 8.499771965905518 minutes\n"
     ]
    }
   ],
   "source": [
    "start_time = time.clock()\n",
    "\n",
    "param_grid_svc = {'kernel':['linear'],\n",
    "                  'gamma':uniform(0.0,0.5),\n",
    "                  'C':uniform(0.25,10.0-0.25)}\n",
    "#               ,\n",
    "#               {'kernel':['poly'],\n",
    "#                'degree':randint(1,7),\n",
    "#                'C':uniform(0.25,10.0-0.25)}\n",
    "#               ,\n",
    "#               {'kernel':['sigmoid'],\n",
    "#                'C':uniform(0.25,10.0-0.25)}]\n",
    "\n",
    "grid_svc = RandomizedSearchCV(n_iter=30, \n",
    "                              estimator=svc, \n",
    "                              cv=StratifiedKFold(10, shuffle=True), \n",
    "                              param_distributions=param_grid_svc,\n",
    "                              scoring='balanced_accuracy',\n",
    "                              n_jobs=-1)\n",
    "\n",
    "print(grid_svc.fit(X_train_cut, y_train))\n",
    "\n",
    "print('-'*50)\n",
    "print('Computed in: {} minutes'.format((time.clock()-start_time)/60))"
   ]
  },
  {
   "cell_type": "code",
   "execution_count": 44,
   "metadata": {},
   "outputs": [
    {
     "data": {
      "text/plain": [
       "{'C': 0.45892341371537215, 'gamma': 0.13803229344833712, 'kernel': 'linear'}"
      ]
     },
     "execution_count": 44,
     "metadata": {},
     "output_type": "execute_result"
    }
   ],
   "source": [
    "grid_svc.best_params_"
   ]
  },
  {
   "cell_type": "code",
   "execution_count": 45,
   "metadata": {},
   "outputs": [
    {
     "name": "stdout",
     "output_type": "stream",
     "text": [
      "Accuracy: 0.9513297027117815\n",
      "\n",
      "              precision    recall  f1-score   support\n",
      "\n",
      "           0       0.95      0.99      0.97      1907\n",
      "           1       0.90      0.57      0.70       228\n",
      "\n",
      "   micro avg       0.95      0.95      0.95      2135\n",
      "   macro avg       0.92      0.78      0.83      2135\n",
      "weighted avg       0.94      0.95      0.94      2135\n",
      "\n",
      "Scores: f1=0.697 auc=0.823 ap=0.824\n"
     ]
    },
    {
     "data": {
      "image/png": "[encoded data removed]",
      "text/plain": [
       "<Figure size 360x360 with 1 Axes>"
      ]
     },
     "metadata": {},
     "output_type": "display_data"
    }
   ],
   "source": [
    "print('Accuracy: %s' % grid_svc.best_score_)\n",
    "print()\n",
    "print(classification_report(grid_svc.predict(X_test_cut), y_test))\n",
    "precission_recall_plot(grid_svc, X_test_cut)"
   ]
  },
  {
   "cell_type": "markdown",
   "metadata": {},
   "source": [
    "### Feature selection for Logistic Regression\n",
    "\n",
    "First feature engineering was carried out above using L1 regularization with the Logistic Regression"
   ]
  },
  {
   "cell_type": "code",
   "execution_count": 56,
   "metadata": {},
   "outputs": [
    {
     "name": "stdout",
     "output_type": "stream",
     "text": [
      "Before merging (3120, 145) (2135, 145)\n",
      "After merging  (5255, 145)\n"
     ]
    }
   ],
   "source": [
    "# Merging tables for feature selection methods\n",
    "print('Before merging', X_train_cut.shape, X_test_cut.shape)\n",
    "data_adult_cut = pd.concat([X_train_cut, X_test_cut], axis=0)\n",
    "print('After merging ', data_adult_cut.shape)"
   ]
  },
  {
   "cell_type": "markdown",
   "metadata": {},
   "source": [
    "#### Statistical tests"
   ]
  },
  {
   "cell_type": "code",
   "execution_count": 57,
   "metadata": {},
   "outputs": [],
   "source": [
    "from sklearn.feature_selection import SelectKBest, f_classif"
   ]
  },
  {
   "cell_type": "code",
   "execution_count": 58,
   "metadata": {},
   "outputs": [
    {
     "name": "stderr",
     "output_type": "stream",
     "text": [
      "C:\\Users\\cyberdeck\\Anaconda3\\lib\\site-packages\\sklearn\\feature_selection\\univariate_selection.py:114: UserWarning: Features [ 1 13 14 16 27 42 44 53 55 64 68 69] are constant.\n",
      "  UserWarning)\n",
      "C:\\Users\\cyberdeck\\Anaconda3\\lib\\site-packages\\sklearn\\feature_selection\\univariate_selection.py:115: RuntimeWarning: invalid value encountered in true_divide\n",
      "  f = msb / msw\n"
     ]
    }
   ],
   "source": [
    "X_train_kbest = SelectKBest(f_classif, k=5).fit_transform(X_train_cut, y_train)\n",
    "scores_kbest = cross_val_score(X=X_train_kbest,\n",
    "                               y=y_train,\n",
    "                               estimator=lr,\n",
    "                               cv=StratifiedKFold(10, shuffle=True),\n",
    "                               scoring='balanced_accuracy',\n",
    "                               n_jobs=-1)"
   ]
  },
  {
   "cell_type": "code",
   "execution_count": 59,
   "metadata": {},
   "outputs": [
    {
     "name": "stdout",
     "output_type": "stream",
     "text": [
      "Accuracy: 0.7944373952671197\n"
     ]
    }
   ],
   "source": [
    "# print(classification_report(lr.predict(X_test_cut), y_test))\n",
    "print('Accuracy: %s' % scores_kbest.mean())"
   ]
  },
  {
   "cell_type": "markdown",
   "metadata": {},
   "source": [
    "#### Selection by modeling"
   ]
  },
  {
   "cell_type": "code",
   "execution_count": 60,
   "metadata": {},
   "outputs": [],
   "source": [
    "from sklearn.feature_selection import SelectFromModel\n",
    "from sklearn.pipeline import make_pipeline"
   ]
  },
  {
   "cell_type": "code",
   "execution_count": 61,
   "metadata": {},
   "outputs": [
    {
     "data": {
      "text/plain": [
       "Pipeline(memory=None,\n",
       "     steps=[('selectfrommodel', SelectFromModel(estimator=RandomForestClassifier(bootstrap=True, class_weight='balanced',\n",
       "            criterion='gini', max_depth=None, max_features='auto',\n",
       "            max_leaf_nodes=None, min_impurity_decrease=0.0,\n",
       "            min_impurity_split=None, min_samples_leaf=1,...alty='l2', random_state=42,\n",
       "          solver='liblinear', tol=0.0001, verbose=0, warm_start=False))])"
      ]
     },
     "execution_count": 61,
     "metadata": {},
     "output_type": "execute_result"
    }
   ],
   "source": [
    "pipe = make_pipeline(SelectFromModel(estimator=RandomForestClassifier(class_weight='balanced', n_estimators=100)),\n",
    "                     LogisticRegression(class_weight='balanced', solver='liblinear', random_state=42))\n",
    "scores_pipe = cross_val_score(X=X_train_cut,\n",
    "                              y=y_train,\n",
    "                              estimator=pipe,\n",
    "                              cv=StratifiedKFold(10, shuffle=True),\n",
    "                              scoring='balanced_accuracy',\n",
    "                              n_jobs=-1)\n",
    "pipe.fit(X_train_cut, y_train)"
   ]
  },
  {
   "cell_type": "code",
   "execution_count": 62,
   "metadata": {},
   "outputs": [
    {
     "name": "stdout",
     "output_type": "stream",
     "text": [
      "Accuracy: 0.9573017118981472\n",
      "\n",
      "              precision    recall  f1-score   support\n",
      "\n",
      "           0       0.92      1.00      0.96      1834\n",
      "           1       0.98      0.47      0.64       301\n",
      "\n",
      "   micro avg       0.92      0.92      0.92      2135\n",
      "   macro avg       0.95      0.74      0.80      2135\n",
      "weighted avg       0.93      0.92      0.91      2135\n",
      "\n",
      "Scores: f1=0.637 auc=0.853 ap=0.854\n"
     ]
    },
    {
     "data": {
      "image/png": "[encoded data removed]",
      "text/plain": [
       "<Figure size 360x360 with 1 Axes>"
      ]
     },
     "metadata": {},
     "output_type": "display_data"
    }
   ],
   "source": [
    "print('Accuracy: %s' % scores_pipe.mean())\n",
    "print()\n",
    "print(classification_report(pipe.predict(X_test_cut), y_test))\n",
    "precission_recall_plot(pipe, X_test_cut)"
   ]
  },
  {
   "cell_type": "code",
   "execution_count": 63,
   "metadata": {},
   "outputs": [],
   "source": [
    "# Grid Search\n",
    "# from mlxtend.feature_selection import SequentialFeatureSelector\n",
    "# selector = SequentialFeatureSelector(LogisticRegression(), scoring='neg_log_loss', verbose=2, k_features=3, forward=False, n_jobs=-1)\n",
    "# selector.fit(x_data_scaled, y_data)"
   ]
  },
  {
   "cell_type": "markdown",
   "metadata": {},
   "source": [
    "#### Variance Threshold"
   ]
  },
  {
   "cell_type": "code",
   "execution_count": 64,
   "metadata": {},
   "outputs": [],
   "source": [
    "from sklearn.feature_selection import VarianceThreshold"
   ]
  },
  {
   "cell_type": "code",
   "execution_count": 65,
   "metadata": {},
   "outputs": [],
   "source": [
    "var = VarianceThreshold(threshold=0.1)\n",
    "var.fit(data_adult_cut)\n",
    "data_adult_var = var.transform(data_adult_cut)"
   ]
  },
  {
   "cell_type": "code",
   "execution_count": 66,
   "metadata": {},
   "outputs": [
    {
     "data": {
      "text/plain": [
       "((5255, 145), (5255, 79))"
      ]
     },
     "execution_count": 66,
     "metadata": {},
     "output_type": "execute_result"
    }
   ],
   "source": [
    "# Number of features decreased\n",
    "data_adult_cut.shape, data_adult_var.shape"
   ]
  },
  {
   "cell_type": "code",
   "execution_count": 67,
   "metadata": {},
   "outputs": [],
   "source": [
    "X_train_var = data_adult_var[:cutoff]\n",
    "X_test_var = data_adult_var[cutoff:]"
   ]
  },
  {
   "cell_type": "code",
   "execution_count": 68,
   "metadata": {},
   "outputs": [
    {
     "data": {
      "text/plain": [
       "((3120, 145), (3120, 79))"
      ]
     },
     "execution_count": 68,
     "metadata": {},
     "output_type": "execute_result"
    }
   ],
   "source": [
    "X_train_cut.shape, X_train_var.shape"
   ]
  },
  {
   "cell_type": "code",
   "execution_count": 69,
   "metadata": {},
   "outputs": [
    {
     "name": "stdout",
     "output_type": "stream",
     "text": [
      "RandomizedSearchCV(cv=StratifiedKFold(n_splits=10, random_state=None, shuffle=True),\n",
      "          error_score='raise-deprecating',\n",
      "          estimator=LogisticRegression(C=1.0, class_weight='balanced', dual=False,\n",
      "          fit_intercept=True, intercept_scaling=1, max_iter=100,\n",
      "          multi_class='warn', n_jobs=None, penalty='l2', random_state=42,\n",
      "          solver='liblinear', tol=0.0001, verbose=0, warm_start=False),\n",
      "          fit_params=None, iid='warn', n_iter=30, n_jobs=-1,\n",
      "          param_distributions={'penalty': ['l1', 'l2'], 'C': <scipy.stats._distn_infrastructure.rv_frozen object at 0x0000020AFADF6518>},\n",
      "          pre_dispatch='2*n_jobs', random_state=None, refit=True,\n",
      "          return_train_score='warn', scoring='balanced_accuracy',\n",
      "          verbose=0)\n",
      "--------------------------------------------------\n",
      "Computed in: 6.311103933906081 minutes\n"
     ]
    }
   ],
   "source": [
    "start_time = time.clock()\n",
    "\n",
    "param_grid_vt = {'penalty':['l1','l2'],\n",
    "                 'C':uniform(0.25,10.0-0.25)}\n",
    "grid_vt = RandomizedSearchCV(n_iter=30, \n",
    "                             estimator=lr, \n",
    "                             cv=StratifiedKFold(10, shuffle=True), \n",
    "                             param_distributions=param_grid_vt,\n",
    "                             scoring='balanced_accuracy',\n",
    "                             n_jobs=-1)\n",
    "print(grid_vt.fit(X_train_var, y_train))\n",
    "\n",
    "print('-'*50)\n",
    "print('Computed in: {} minutes'.format((time.clock()-start_time)/60))"
   ]
  },
  {
   "cell_type": "code",
   "execution_count": 70,
   "metadata": {},
   "outputs": [
    {
     "data": {
      "text/plain": [
       "{'C': 2.2265560261720903, 'penalty': 'l1'}"
      ]
     },
     "execution_count": 70,
     "metadata": {},
     "output_type": "execute_result"
    }
   ],
   "source": [
    "grid_vt.best_params_"
   ]
  },
  {
   "cell_type": "code",
   "execution_count": 71,
   "metadata": {},
   "outputs": [
    {
     "name": "stdout",
     "output_type": "stream",
     "text": [
      "Accuracy: 0.9897984207524597\n",
      "\n",
      "              precision    recall  f1-score   support\n",
      "\n",
      "           0       0.98      1.00      0.99      1953\n",
      "           1       0.99      0.79      0.87       182\n",
      "\n",
      "   micro avg       0.98      0.98      0.98      2135\n",
      "   macro avg       0.98      0.89      0.93      2135\n",
      "weighted avg       0.98      0.98      0.98      2135\n",
      "\n",
      "Scores: f1=0.875 auc=0.979 ap=0.979\n"
     ]
    },
    {
     "data": {
      "image/png": "[encoded data removed]",
      "text/plain": [
       "<Figure size 360x360 with 1 Axes>"
      ]
     },
     "metadata": {},
     "output_type": "display_data"
    }
   ],
   "source": [
    "print('Accuracy: %s' % grid_vt.best_score_)\n",
    "print()\n",
    "print(classification_report(grid_vt.predict(X_test_var), y_test))\n",
    "precission_recall_plot(grid_vt, X_test_var)"
   ]
  },
  {
   "cell_type": "markdown",
   "metadata": {},
   "source": [
    "#### RFE"
   ]
  },
  {
   "cell_type": "code",
   "execution_count": 72,
   "metadata": {},
   "outputs": [],
   "source": [
    "from sklearn.feature_selection import RFE, RFECV"
   ]
  },
  {
   "cell_type": "code",
   "execution_count": 73,
   "metadata": {
    "scrolled": false
   },
   "outputs": [
    {
     "name": "stdout",
     "output_type": "stream",
     "text": [
      "--------------------------------------------------\n",
      "Computed in: 8.749158482396517 minutes\n"
     ]
    }
   ],
   "source": [
    "start_time = time.clock()\n",
    "\n",
    "rfe_estimator = LogisticRegression(C=2, penalty='l1', class_weight='balanced', solver='liblinear')\n",
    "rfe_selector = RFE(rfe_estimator, step=1)\n",
    "\n",
    "# Takes very long time to compute RFECV with StratifiedKfold\n",
    "# rfe_selector = RFECV(rfe_estimator, step=5, cv=StratifiedKFold(5, shuffle=True))\n",
    "\n",
    "print(rfe_selector.fit(data_adult_cut, y))\n",
    "\n",
    "print('-'*50)\n",
    "print('Computed in: {} minutes'.format((time.clock()-start_time)/60))"
   ]
  },
  {
   "cell_type": "code",
   "execution_count": 74,
   "metadata": {},
   "outputs": [
    {
     "data": {
      "text/plain": [
       "Index(['nation_Ecuador', 'nation_Estonia', 'nation_Finland', 'nation_France',\n",
       "       'nation_Germany', 'nation_Great Britain', 'nation_Ireland',\n",
       "       'nation_Italy', 'nation_Luxembourg', 'nation_Norway', 'nation_Poland',\n",
       "       'nation_Russia', 'nation_USA', 'finish_Bukowina Tatrzańska',\n",
       "       'finish_Katowice', 'finish_Warszawa', 'finish_Zabrze',\n",
       "       'finish_Zakopane', 'wind_dir_N', 'wind_dir_NW', 'wind_dir_SSE',\n",
       "       'wind_dir_SW', 'wind_dir_W', 'wind_dir_WNW', 'wind_dir_WSW', 'age',\n",
       "       'year', 'stage', 'position', 'gc', 'mount_jerseys', 'point_jerseys',\n",
       "       'sprint_jerseys', 'youth_jerseys', 'followers', 'total_wins',\n",
       "       'n_stages', 'avg_pos_ovr', 'avg_time_ovr', 'best_gc_ovr',\n",
       "       'worst_gc_ovr', 'avg_gc_time_ovr', 'n_top10_ovr', 'n_win_ovr',\n",
       "       'best_pos_ovr_l3', 'best_gc_ovr_l3', 'best_gc_time_ovr_l3',\n",
       "       'avg_gc_time_ovr_l3', 'worst_gc_time_ovr_l3', 'n_top10_l3', 'n_win_l3',\n",
       "       'perc_top10_ovr', 'perc_win_ovr', '2015_fc_rank', '2016_div',\n",
       "       '2016_fc_rank', '2016_wins', '2016_year_km', '2017_div', '2017_fc_rank',\n",
       "       '2017_race_days', '2017_wins', '2018_div', '2018_fc_rank', '2018_wins',\n",
       "       'stage_type_code', 'dist', 'temp', 'rel_humid', 'wind_speed',\n",
       "       'clouds_ovrl', 'visibility'],\n",
       "      dtype='object')"
      ]
     },
     "execution_count": 74,
     "metadata": {},
     "output_type": "execute_result"
    }
   ],
   "source": [
    "data_adult_cut.columns[rfe_selector.get_support()]"
   ]
  },
  {
   "cell_type": "code",
   "execution_count": 75,
   "metadata": {},
   "outputs": [],
   "source": [
    "support_columns = data_adult_cut.columns[rfe_selector.get_support()]\n",
    "data_adult_rfe = data_adult_cut[support_columns]"
   ]
  },
  {
   "cell_type": "code",
   "execution_count": 76,
   "metadata": {},
   "outputs": [],
   "source": [
    "X_train_rfe = data_adult_rfe.iloc[:cutoff,:]\n",
    "X_test_rfe = data_adult_rfe.iloc[cutoff:,:]"
   ]
  },
  {
   "cell_type": "code",
   "execution_count": 77,
   "metadata": {},
   "outputs": [
    {
     "data": {
      "text/plain": [
       "(3120, 72)"
      ]
     },
     "execution_count": 77,
     "metadata": {},
     "output_type": "execute_result"
    }
   ],
   "source": [
    "X_train_rfe.shape"
   ]
  },
  {
   "cell_type": "code",
   "execution_count": 78,
   "metadata": {},
   "outputs": [
    {
     "name": "stdout",
     "output_type": "stream",
     "text": [
      "--------------------------------------------------\n",
      "Computed in: 4.9763219584320115 minutes\n"
     ]
    }
   ],
   "source": [
    "start_time = time.clock()\n",
    "\n",
    "param_grid_rfe = {'penalty':['l1','l2'],\n",
    "                  'C':uniform(0.25,10.0-0.25)}\n",
    "\n",
    "grid_rfe = RandomizedSearchCV(n_iter=30, \n",
    "                              estimator=lr, \n",
    "                              cv=StratifiedKFold(10, shuffle=True), \n",
    "                              param_distributions=param_grid_rfe,\n",
    "                              scoring='balanced_accuracy',\n",
    "                              n_jobs=-1)\n",
    "print(grid_rfe.fit(X_train_rfe, y_train))\n",
    "\n",
    "print('-'*50)\n",
    "print('Computed in: {} minutes'.format((time.clock()-start_time)/60))"
   ]
  },
  {
   "cell_type": "code",
   "execution_count": 79,
   "metadata": {},
   "outputs": [
    {
     "data": {
      "text/plain": [
       "{'C': 2.7283752243811588, 'penalty': 'l1'}"
      ]
     },
     "execution_count": 79,
     "metadata": {},
     "output_type": "execute_result"
    }
   ],
   "source": [
    "grid_rfe.best_params_"
   ]
  },
  {
   "cell_type": "code",
   "execution_count": 80,
   "metadata": {},
   "outputs": [
    {
     "name": "stdout",
     "output_type": "stream",
     "text": [
      "Accuracy: 0.9935048014735589\n",
      "\n",
      "              precision    recall  f1-score   support\n",
      "\n",
      "           0       0.98      1.00      0.99      1958\n",
      "           1       0.98      0.80      0.88       177\n",
      "\n",
      "   micro avg       0.98      0.98      0.98      2135\n",
      "   macro avg       0.98      0.90      0.94      2135\n",
      "weighted avg       0.98      0.98      0.98      2135\n",
      "\n",
      "Scores: f1=0.882 auc=0.981 ap=0.981\n"
     ]
    },
    {
     "data": {
      "image/png": "[encoded data removed]",
      "text/plain": [
       "<Figure size 360x360 with 1 Axes>"
      ]
     },
     "metadata": {},
     "output_type": "display_data"
    }
   ],
   "source": [
    "print('Accuracy: %s' % grid_rfe.best_score_)\n",
    "print()\n",
    "print(classification_report(grid_rfe.predict(X_test_rfe), y_test))\n",
    "precission_recall_plot(grid_rfe, X_test_rfe)"
   ]
  },
  {
   "cell_type": "code",
   "execution_count": null,
   "metadata": {},
   "outputs": [],
   "source": []
  },
  {
   "cell_type": "markdown",
   "metadata": {},
   "source": [
    "---------------"
   ]
  },
  {
   "cell_type": "markdown",
   "metadata": {},
   "source": [
    "**Previous notebooks:** <br>\n",
    "[Part 1: Data mining and munging](tdp_1_3_data_mining_and_cleaning.ipynb)<br>\n",
    "[Part 2: Data stats and visuals](tdp_2_3_data_statistics_visualization.ipynb)"
   ]
  }
 ],
 "metadata": {
  "hide_input": false,
  "kernelspec": {
   "display_name": "Python 3",
   "language": "python",
   "name": "python3"
  },
  "language_info": {
   "codemirror_mode": {
    "name": "ipython",
    "version": 3
   },
   "file_extension": ".py",
   "mimetype": "text/x-python",
   "name": "python",
   "nbconvert_exporter": "python",
   "pygments_lexer": "ipython3",
   "version": "3.6.6"
  },
  "notify_time": "10",
  "toc": {
   "base_numbering": 1,
   "nav_menu": {},
   "number_sections": true,
   "sideBar": true,
   "skip_h1_title": false,
   "title_cell": "Table of Contents",
   "title_sidebar": "Contents",
   "toc_cell": false,
   "toc_position": {
    "height": "calc(100% - 180px)",
    "left": "10px",
    "top": "150px",
    "width": "273.594px"
   },
   "toc_section_display": true,
   "toc_window_display": false
  }
 },
 "nbformat": 4,
 "nbformat_minor": 2
}
